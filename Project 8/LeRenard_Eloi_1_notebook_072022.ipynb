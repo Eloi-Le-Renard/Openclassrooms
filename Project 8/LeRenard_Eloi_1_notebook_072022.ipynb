{
 "cells": [
  {
   "cell_type": "markdown",
   "metadata": {
    "id": "0tHMoFw9yThU"
   },
   "source": [
    "# P8"
   ]
  },
  {
   "cell_type": "code",
   "execution_count": 1,
   "metadata": {
    "executionInfo": {
     "elapsed": 7,
     "status": "ok",
     "timestamp": 1654263673423,
     "user": {
      "displayName": "Eloi",
      "userId": "03153732686645930687"
     },
     "user_tz": -120
    },
    "id": "FvaDVVkfyNZO"
   },
   "outputs": [],
   "source": [
    "nb_epochs = 20"
   ]
  },
  {
   "cell_type": "markdown",
   "metadata": {},
   "source": [
    "## import"
   ]
  },
  {
   "cell_type": "code",
   "execution_count": 4,
   "metadata": {
    "executionInfo": {
     "elapsed": 391,
     "status": "ok",
     "timestamp": 1654270577476,
     "user": {
      "displayName": "Eloi",
      "userId": "03153732686645930687"
     },
     "user_tz": -120
    },
    "id": "tyVo0ss_4crL"
   },
   "outputs": [
    {
     "name": "stdout",
     "output_type": "stream",
     "text": [
      "Segmentation Models: using `keras` framework.\n"
     ]
    }
   ],
   "source": [
    "from skimage.io import imshow, imread, imsave, use_plugin\n",
    "from skimage.transform import resize\n",
    "\n",
    "import glob\n",
    "import os\n",
    "\n",
    "from tensorflow.keras.utils import Sequence \n",
    "\n",
    "from tensorflow.keras import backend as K\n",
    "from tensorflow.keras.layers import Input, Conv2D, MaxPooling2D, concatenate, Conv2DTranspose, BatchNormalization, Activation, Dropout, Reshape, Permute\n",
    "from tensorflow.keras.optimizers import Adadelta, Nadam\n",
    "from tensorflow.keras.models import Model, load_model\n",
    "from tensorflow.keras.utils import plot_model\n",
    "from tensorflow.keras.callbacks import TensorBoard, ModelCheckpoint, EarlyStopping, ReduceLROnPlateau\n",
    "from tensorflow.keras.preprocessing import image\n",
    "from tensorflow.keras.losses import binary_crossentropy\n",
    "\n",
    "import numpy as np\n",
    "from tensorflow.keras.preprocessing.image import load_img\n",
    "\n",
    "import skimage.io as io\n",
    "\n",
    "import time\n",
    "from matplotlib import pyplot as plt\n",
    "\n",
    "import tensorflow as tf\n",
    "import keras\n",
    "\n",
    "import numpy as np\n",
    "import imgaug as ia\n",
    "import imgaug.augmenters as iaa\n",
    "import imageio\n",
    "\n",
    "# module used for image segmentation models\n",
    "# https://segmentation-models.readthedocs.io/en/latest/tutorial.html\n",
    "from segmentation_models import Unet, FPN, Linknet, PSPNet\n",
    "from segmentation_models import get_preprocessing\n",
    "from segmentation_models.losses import bce_jaccard_loss, dice_loss, jaccard_loss, binary_crossentropy\n",
    "from segmentation_models.metrics import iou_score\n",
    "from keras import backend as K\n"
   ]
  },
  {
   "cell_type": "markdown",
   "metadata": {
    "id": "xqmEVvrKCzi7"
   },
   "source": [
    "## fonctions utilitaires"
   ]
  },
  {
   "cell_type": "code",
   "execution_count": 5,
   "metadata": {},
   "outputs": [],
   "source": [
    "cats = {'void': [0, 1, 2, 3, 4, 5, 6],\n",
    " 'flat': [7, 8, 9, 10],\n",
    " 'construction': [11, 12, 13, 14, 15, 16],\n",
    " 'object': [17, 18, 19, 20],\n",
    " 'nature': [21, 22],\n",
    " 'sky': [23],\n",
    " 'human': [24, 25],\n",
    " 'vehicle': [26, 27, 28, 29, 30, 31, 32, 33, -1]}\n",
    "\n",
    "# convert img labels from 35 to 8 class\n",
    "def class_35_to_8(list_img):\n",
    "    mask_8class = []\n",
    "    # pour chaque mask, create 8 class mask\n",
    "    for img in list_img:\n",
    "      mask = np.zeros((img.shape[0], img.shape[1], 8), dtype='uint8')\n",
    "      for i in range(-1, 34):\n",
    "          if i in cats['void']:\n",
    "              mask[:,:,0] = np.logical_or(mask[:,:,0],(img==i))\n",
    "          elif i in cats['flat']:\n",
    "              mask[:,:,1] = np.logical_or(mask[:,:,1],(img==i))\n",
    "          elif i in cats['construction']:\n",
    "              mask[:,:,2] = np.logical_or(mask[:,:,2],(img==i))\n",
    "          elif i in cats['object']:\n",
    "              mask[:,:,3] = np.logical_or(mask[:,:,3],(img==i))\n",
    "          elif i in cats['nature']:\n",
    "              mask[:,:,4] = np.logical_or(mask[:,:,4],(img==i))\n",
    "          elif i in cats['sky']:\n",
    "              mask[:,:,5] = np.logical_or(mask[:,:,5],(img==i))\n",
    "          elif i in cats['human']:\n",
    "              mask[:,:,6] = np.logical_or(mask[:,:,6],(img==i))\n",
    "          elif i in cats['vehicle']:\n",
    "              mask[:,:,7] = np.logical_or(mask[:,:,7],(img==i))\n",
    "      mask_8class.append(mask)\n",
    "    mask_8class = np.array(mask_8class).astype(np.float32)#.astype(int)#.astype(np.float32)\n",
    "    print(mask_8class.shape)\n",
    "    return mask_8class"
   ]
  },
  {
   "cell_type": "code",
   "execution_count": 6,
   "metadata": {},
   "outputs": [],
   "source": [
    "# afficher image 8 class en niveau de gris\n",
    "def display_imarge(img):\n",
    "    imarge = []\n",
    "    for row in img:\n",
    "        imarge_row = []\n",
    "        for pix in row:\n",
    "            if pix[0] > 0.5: merge = .1\n",
    "            elif pix[1] > 0.5: merge = .2\n",
    "            elif pix[2] > 0.5: merge = .3\n",
    "            elif pix[3] > 0.5: merge = .4\n",
    "            elif pix[4] > 0.5: merge = .5\n",
    "            elif pix[5] > 0.5: merge = .6\n",
    "            elif pix[6] > 0.5: merge = .7\n",
    "            else: merge = .8\n",
    "            imarge_row.append(merge) \n",
    "        imarge.append(imarge_row)\n",
    "    imarge = np.array(imarge)\n",
    "    imshow(imarge, vmin = 0, vmax = 0.8)\n",
    "    return imarge"
   ]
  },
  {
   "cell_type": "code",
   "execution_count": 7,
   "metadata": {
    "executionInfo": {
     "elapsed": 19,
     "status": "ok",
     "timestamp": 1654263745732,
     "user": {
      "displayName": "Eloi",
      "userId": "03153732686645930687"
     },
     "user_tz": -120
    },
    "id": "u2mONwCzygEF"
   },
   "outputs": [],
   "source": [
    "# afficher la learning curve\n",
    "def afficher_resultats(hist,name='inconnue'):\n",
    "    metric = hist.history['dice_metric'][-1]\n",
    "    print(metric)\n",
    "    plt.plot(history.history['loss'])\n",
    "    plt.plot(history.history['val_loss'])\n",
    "    plt.title('model loss')\n",
    "    plt.ylabel('loss')\n",
    "    plt.xlabel('epoch')\n",
    "    plt.legend(['train', 'validation'], loc='upper left')\n",
    "    plt.show()\n",
    "    return metric"
   ]
  },
  {
   "cell_type": "code",
   "execution_count": 8,
   "metadata": {},
   "outputs": [],
   "source": [
    "# load img from files names\n",
    "def read_img(files, taille = 256, color_mode = 'rgb'):\n",
    "    data = []\n",
    "    for i in files:   \n",
    "        imageee=load_img(i, color_mode=color_mode, target_size= (taille,taille))\n",
    "        imageee=np.array(imageee)\n",
    "        data.append(imageee)\n",
    "    X_dataVAL = np.array(data)\n",
    "    print(X_dataVAL.shape)\n",
    "    return X_dataVAL\n",
    "    "
   ]
  },
  {
   "cell_type": "markdown",
   "metadata": {},
   "source": [
    "## load data\n",
    "chargement des données (on en garde 1000 sur les 5000 à disposition).\\\n",
    "On a besoin de 2 formats d'images différents (256 * 256 et 384 * 384 pour PSPNet)."
   ]
  },
  {
   "cell_type": "code",
   "execution_count": 1,
   "metadata": {
    "executionInfo": {
     "elapsed": 5,
     "status": "ok",
     "timestamp": 1654263677990,
     "user": {
      "displayName": "Eloi",
      "userId": "03153732686645930687"
     },
     "user_tz": -120
    },
    "id": "Zj9q2KAj4coJ"
   },
   "outputs": [],
   "source": [
    "My_path = 'C:/Users/eloir/Downloads/'"
   ]
  },
  {
   "cell_type": "code",
   "execution_count": 10,
   "metadata": {},
   "outputs": [],
   "source": [
    "My_path_input = 'D:/P8_Cityscapes_leftImg8bit_trainvaltest(1)/leftImg8bit/'\n",
    "My_path_mask = 'D:/P8_Cityscapes_gtFine_trainvaltest(1)/gtFine/'"
   ]
  },
  {
   "cell_type": "code",
   "execution_count": 11,
   "metadata": {
    "executionInfo": {
     "elapsed": 4,
     "status": "ok",
     "timestamp": 1654263677990,
     "user": {
      "displayName": "Eloi",
      "userId": "03153732686645930687"
     },
     "user_tz": -120
    },
    "id": "sqC5Ho2w5Opu"
   },
   "outputs": [],
   "source": [
    "files_input = sorted(glob.glob(My_path_input+'train/*/*'))\n",
    "files_mask = sorted(glob.glob(My_path_mask+'train/*/*labelIds.png'))\n",
    "\n",
    "files_inputTEST = sorted(glob.glob(My_path_input+'test/*/*'))\n",
    "files_maskTEST = sorted(glob.glob(My_path_mask+'test/*/*labelIds.png'))\n",
    "\n",
    "files_inputVAL = sorted(glob.glob(My_path_input+'val/*/*'))\n",
    "files_maskVAL = sorted(glob.glob(My_path_mask+'val/*/*labelIds.png'))"
   ]
  },
  {
   "cell_type": "code",
   "execution_count": 12,
   "metadata": {},
   "outputs": [
    {
     "data": {
      "text/plain": [
       "5000"
      ]
     },
     "execution_count": 12,
     "metadata": {},
     "output_type": "execute_result"
    }
   ],
   "source": [
    "len(files_mask)+len(files_maskTEST)+len(files_maskVAL)"
   ]
  },
  {
   "cell_type": "code",
   "execution_count": 13,
   "metadata": {},
   "outputs": [],
   "source": [
    "files_mask = files_mask[:800]\n",
    "files_input = files_input[:800]\n",
    "\n",
    "files_maskTEST = files_maskTEST[:100]\n",
    "files_inputTEST = files_inputTEST[:100]\n",
    "\n",
    "files_maskVAL = files_maskVAL[:100]\n",
    "files_inputVAL = files_inputVAL[:100]"
   ]
  },
  {
   "cell_type": "code",
   "execution_count": 14,
   "metadata": {},
   "outputs": [
    {
     "data": {
      "text/plain": [
       "800"
      ]
     },
     "execution_count": 14,
     "metadata": {},
     "output_type": "execute_result"
    }
   ],
   "source": [
    "len(files_input)"
   ]
  },
  {
   "cell_type": "code",
   "execution_count": 15,
   "metadata": {},
   "outputs": [
    {
     "data": {
      "text/plain": [
       "100"
      ]
     },
     "execution_count": 15,
     "metadata": {},
     "output_type": "execute_result"
    }
   ],
   "source": [
    "len(files_maskTEST)"
   ]
  },
  {
   "cell_type": "code",
   "execution_count": 16,
   "metadata": {},
   "outputs": [],
   "source": [
    "io.use_plugin('matplotlib', 'imshow')"
   ]
  },
  {
   "cell_type": "code",
   "execution_count": 17,
   "metadata": {},
   "outputs": [
    {
     "name": "stdout",
     "output_type": "stream",
     "text": [
      "(100, 256, 256, 3)\n",
      "(100, 256, 256, 3)\n",
      "(800, 256, 256, 3)\n",
      "(100, 256, 256)\n",
      "(100, 256, 256)\n",
      "(800, 256, 256)\n"
     ]
    }
   ],
   "source": [
    "# load img reducing to 256*256 size\n",
    "X_dataVAL = read_img(files_inputVAL, taille = 256)\n",
    "X_dataTEST = read_img(files_inputTEST, taille = 256)\n",
    "X_data = read_img(files_input, taille = 256)\n",
    "y_dataVAL = read_img(files_maskVAL, taille = 256, color_mode='grayscale')\n",
    "y_dataTEST = read_img(files_maskTEST, taille = 256, color_mode='grayscale')\n",
    "y_data = read_img(files_mask, taille = 256, color_mode='grayscale')"
   ]
  },
  {
   "cell_type": "code",
   "execution_count": 293,
   "metadata": {},
   "outputs": [
    {
     "name": "stdout",
     "output_type": "stream",
     "text": [
      "(80, 384, 384, 3)\n",
      "(80, 384, 384, 3)\n",
      "(300, 384, 384, 3)\n",
      "(80, 384, 384)\n",
      "(80, 384, 384)\n",
      "(300, 384, 384)\n"
     ]
    }
   ],
   "source": [
    "X_dataVAL384 = read_img(files_inputVAL[:80], taille = 384)\n",
    "X_dataTEST384 = read_img(files_inputTEST[:80], taille = 384)\n",
    "X_data384 = read_img(files_input[:300], taille = 384)\n",
    "y_dataVAL384 = read_img(files_maskVAL[:80], taille = 384, color_mode='grayscale')\n",
    "y_dataTEST384 = read_img(files_maskTEST[:80], taille = 384, color_mode='grayscale')\n",
    "y_data384 = read_img(files_mask[:300], taille = 384, color_mode='grayscale')\n",
    "#MemoryError: Unable to allocate 3.52 GiB for an array with shape (800, 384, 384, 8) and data type float32"
   ]
  },
  {
   "cell_type": "code",
   "execution_count": 297,
   "metadata": {},
   "outputs": [
    {
     "name": "stdout",
     "output_type": "stream",
     "text": [
      "(100, 256, 256, 8)\n",
      "(100, 256, 256, 8)\n",
      "(800, 256, 256, 8)\n",
      "(80, 384, 384, 8)\n",
      "(80, 384, 384, 8)\n",
      "(300, 384, 384, 8)\n"
     ]
    }
   ],
   "source": [
    "# convert output img from 35 to 8 class\n",
    "mask_8classVAL = class_35_to_8(y_dataVAL)\n",
    "mask_8classTEST = class_35_to_8(y_dataTEST)\n",
    "mask_8class = class_35_to_8(y_data)\n",
    "\n",
    "mask_8classVAL384 = class_35_to_8(y_dataVAL384)\n",
    "mask_8classTEST384 = class_35_to_8(y_dataTEST384)\n",
    "mask_8class384 = class_35_to_8(y_data384)"
   ]
  },
  {
   "cell_type": "markdown",
   "metadata": {
    "id": "xqmEVvrKCzi7"
   },
   "source": [
    "## metriques\n",
    "    On utilisera le coefficient de Dice pour evaluer la performance des modeles. Pour entrainer les modeles, on comparera la fonction de cout associée au coefficient de Dice et l'indice de Jaccard. Ces 2 métriques mesurent la similarité entre 2 echantillons."
   ]
  },
  {
   "cell_type": "code",
   "execution_count": 20,
   "metadata": {
    "executionInfo": {
     "elapsed": 19,
     "status": "ok",
     "timestamp": 1654263745733,
     "user": {
      "displayName": "Eloi",
      "userId": "03153732686645930687"
     },
     "user_tz": -120
    },
    "id": "AbpvnE7o_MzV"
   },
   "outputs": [],
   "source": [
    "# same idea for dice and jaccard metrics\n",
    "def dice_metric(y_true, y_pred):\n",
    "    smooth = 1.\n",
    "    y_true_f = K.flatten(y_true)\n",
    "    y_pred_f = K.flatten(y_pred)\n",
    "    intersection = K.sum(y_true_f * y_pred_f)\n",
    "    score = (2. * intersection + smooth) / (K.sum(y_true_f) + K.sum(y_pred_f) + smooth)\n",
    "    return score\n",
    "\n",
    "def dice_loss(y_true, y_pred):\n",
    "    loss = 1 - dice_metric(y_true, y_pred)\n",
    "    return loss\n",
    "\n",
    "def total_loss(y_true, y_pred):\n",
    "    loss = binary_crossentropy(y_true, y_pred) + (3*dice_loss(y_true, y_pred))\n",
    "    return loss\n",
    "\n",
    "def jaccard_metric(y_true, y_pred):\n",
    "    y_true_f = K.flatten(y_true)\n",
    "    y_pred_f = K.flatten(y_pred)\n",
    "    intersection = K.sum(y_true_f * y_pred_f)\n",
    "    Jaccard = (intersection + 1.0) / (K.sum(y_true_f) + K.sum(y_pred_f) - intersection + 1.0)\n",
    "    return Jaccard\n",
    "\n",
    "def jaccard_loss(y_true, y_pred):\n",
    "    return 1-jaccard_metric(y_true, y_pred)"
   ]
  },
  {
   "cell_type": "markdown",
   "metadata": {
    "id": "_XORwhDctOVJ"
   },
   "source": [
    "![image.png](data:image/png;base64,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)"
   ]
  },
  {
   "cell_type": "markdown",
   "metadata": {
    "id": "hjEYgg03MVHD"
   },
   "source": [
    "## generateurs data aug\n",
    "On créé nos augmentateurs de données qui serviront pour l'entrainement du modèle final (voir fin)."
   ]
  },
  {
   "cell_type": "code",
   "execution_count": 21,
   "metadata": {
    "id": "3skr-uDlMlgl"
   },
   "outputs": [],
   "source": [
    "batch_size = 16\n",
    "\n",
    "samples = 50\n",
    "samples_limit_train = 25\n",
    "steps = samples_limit_train//batch_size\n",
    "img_height, img_width = 256, 256\n",
    "classes = 8\n",
    "filters_n = 64"
   ]
  },
  {
   "cell_type": "code",
   "execution_count": 22,
   "metadata": {},
   "outputs": [],
   "source": [
    "ia.seed(1)"
   ]
  },
  {
   "cell_type": "code",
   "execution_count": 258,
   "metadata": {},
   "outputs": [],
   "source": [
    "# sequence de modification d'img\n",
    "seq = iaa.Sequential([\n",
    "    iaa.Fliplr(0.5), # horizontal flips\n",
    "    iaa.Crop(percent=(0, 0.1)), # random crops\n",
    "    iaa.Affine(\n",
    "        scale={\"x\": (0.8, 1.2), \"y\": (0.8, 1.2)},\n",
    "        translate_percent={\"x\": (-0.2, 0.2), \"y\": (-0.2, 0.2)},\n",
    "        rotate=(-25, 25),\n",
    "        shear=(-8, 8)\n",
    "    )\n",
    "], random_order=True) # apply augmenters in random order\n",
    "\n",
    "# augmenter class object \n",
    "class seg_gen(Sequence):\n",
    "    def __init__(self, x_set, y_set, batch_size):\n",
    "        self.x, self.y = x_set, y_set\n",
    "        self.batch_size = batch_size\n",
    "\n",
    "    def __len__(self):\n",
    "        return int(np.ceil(len(self.x) / float(self.batch_size)))\n",
    "\n",
    "    def __getitem__(self, idx):\n",
    "        # take (\"samples_limit_train\" number of) random img from the set\n",
    "        idx = np.random.randint(0, samples_limit_train, self.batch_size)\n",
    "        batch_x, batch_y = [], []\n",
    "        seq_det = seq.to_deterministic()\n",
    "        \n",
    "        for i in idx:\n",
    "            _image = self.x[i]  \n",
    "            img_mask = self.y[i] \n",
    "            \n",
    "            images_aug_i = seq_det(image=_image)\n",
    "            segmaps_aug_i = seq_det(image=img_mask)\n",
    "            \n",
    "            batch_y.append(img_mask)\n",
    "            batch_x.append(images_aug_i)\n",
    "        \n",
    "        return tf.image.resize(batch_x, (256,256)), tf.image.resize(batch_y, (256,256))"
   ]
  },
  {
   "cell_type": "code",
   "execution_count": 25,
   "metadata": {},
   "outputs": [],
   "source": [
    "# sequence de modification d'img sur les img de validation (utilise les mêmes transformations que le generateur \"seg_gen2\")\n",
    "class seg_gen_validation(Sequence):\n",
    "    def __init__(self, x_set, y_set, batch_size):\n",
    "        self.x, self.y = x_set, y_set\n",
    "        self.batch_size = batch_size\n",
    "\n",
    "    def __len__(self):\n",
    "        return int(np.ceil(len(self.x) / float(self.batch_size)))\n",
    "\n",
    "    def __getitem__(self, idx):\n",
    "        print(\"get item !\")\n",
    "        # take (\"samples_limit_train\" number of) random img from the set\n",
    "        idx = np.random.randint(samples_limit_train, samples, self.batch_size)\n",
    "        batch_x, batch_y = [], []\n",
    "\n",
    "        for i in idx:\n",
    "            _image = self.x[i]  \n",
    "            img_mask = self.y[i] \n",
    "            batch_y.append(img_mask)\n",
    "            batch_x.append(_image)\n",
    "        \n",
    "        return np.array(batch_x), np.array(batch_y)"
   ]
  },
  {
   "cell_type": "markdown",
   "metadata": {
    "id": "iuiS8q8qC7o3"
   },
   "source": [
    "## models\n",
    "On va entrainer plusieurs modeles pour comparer leurs performances.\\\n",
    "Ci dessous l'image utiliser en tant qu'exemple pour chaque modeles."
   ]
  },
  {
   "cell_type": "code",
   "execution_count": 26,
   "metadata": {},
   "outputs": [
    {
     "data": {
      "text/plain": [
       "<matplotlib.image.AxesImage at 0x19107ba3df0>"
      ]
     },
     "execution_count": 26,
     "metadata": {},
     "output_type": "execute_result"
    },
    {
     "data": {
      "image/png": "[encoded data removed]",
      "text/plain": [
       "<Figure size 432x288 with 1 Axes>"
      ]
     },
     "metadata": {
      "needs_background": "light"
     },
     "output_type": "display_data"
    }
   ],
   "source": [
    "imshow(X_dataTEST[0])"
   ]
  },
  {
   "cell_type": "code",
   "execution_count": 27,
   "metadata": {},
   "outputs": [],
   "source": [
    "liste_resultats = {}"
   ]
  },
  {
   "cell_type": "code",
   "execution_count": 173,
   "metadata": {
    "executionInfo": {
     "elapsed": 336,
     "status": "ok",
     "timestamp": 1654270755046,
     "user": {
      "displayName": "Eloi",
      "userId": "03153732686645930687"
     },
     "user_tz": -120
    },
    "id": "U-x7qwNAOYJZ"
   },
   "outputs": [],
   "source": [
    "# load your data\n",
    "x_train2, y_train, x_val2, y_val = X_data, mask_8class, X_dataVAL, mask_8classVAL\n",
    "\n",
    "BACKBONE = 'resnet34'\n",
    "#BACKBONE = 'mobilenetv2'\n",
    "\n",
    "# prepare data for mobilenetv2/resnet34\n",
    "preprocess_input = get_preprocessing(BACKBONE)\n",
    "x_train = preprocess_input(x_train2)\n",
    "x_val = preprocess_input(x_val2)\n",
    "\n",
    "# prepare data for vgg16\n",
    "preprocess_input_vgg16 = get_preprocessing('vgg16')\n",
    "x_train_vgg16 = preprocess_input_vgg16(x_train2)\n",
    "x_val_vgg16 = preprocess_input_vgg16(x_val2)"
   ]
  },
  {
   "cell_type": "code",
   "execution_count": 29,
   "metadata": {
    "colab": {
     "base_uri": "https://localhost:8080/",
     "height": 35
    },
    "executionInfo": {
     "elapsed": 19,
     "status": "ok",
     "timestamp": 1654263745738,
     "user": {
      "displayName": "Eloi",
      "userId": "03153732686645930687"
     },
     "user_tz": -120
    },
    "id": "6sLg_Sj4Riza",
    "outputId": "f865b38f-fdf5-4d26-b8d6-97f5a80410e8"
   },
   "outputs": [
    {
     "data": {
      "text/plain": [
       "'tf.keras'"
      ]
     },
     "execution_count": 29,
     "metadata": {},
     "output_type": "execute_result"
    }
   ],
   "source": [
    "import segmentation_models as sm\n",
    "\n",
    "sm.set_framework('tf.keras')\n",
    "\n",
    "sm.framework()"
   ]
  },
  {
   "cell_type": "markdown",
   "metadata": {},
   "source": [
    "### PSPNet (jaccard) "
   ]
  },
  {
   "cell_type": "markdown",
   "metadata": {},
   "source": [
    "**/!\\ peu de data, risque de crash /!\\** (images + lourdes 384 * 384)"
   ]
  },
  {
   "attachments": {
    "image.png": {
     "image/png": "[encoded data removed]"
    }
   },
   "cell_type": "markdown",
   "metadata": {},
   "source": [
    "![image.png](attachment:image.png)"
   ]
  },
  {
   "cell_type": "code",
   "execution_count": 299,
   "metadata": {},
   "outputs": [],
   "source": [
    "x_train384, y_train384, x_val384, y_val384 = X_data384, mask_8class384, X_dataVAL384, mask_8classVAL384\n",
    "\n",
    "# preprocess input\n",
    "x_train384 = preprocess_input(x_train384)\n",
    "x_val384 = preprocess_input(x_val384)"
   ]
  },
  {
   "cell_type": "code",
   "execution_count": 300,
   "metadata": {},
   "outputs": [],
   "source": [
    "model = PSPNet(BACKBONE, encoder_weights='imagenet', classes=8, input_shape=(384, 384, 3))\n",
    "model.compile('Adam', loss=jaccard_loss, metrics=[dice_metric])"
   ]
  },
  {
   "cell_type": "code",
   "execution_count": 301,
   "metadata": {
    "scrolled": true
   },
   "outputs": [
    {
     "name": "stdout",
     "output_type": "stream",
     "text": [
      "Epoch 1/20\n",
      "19/19 [==============================] - 457s 13s/step - loss: 0.4606 - dice_metric: 0.6904\n",
      "Epoch 2/20\n",
      "19/19 [==============================] - 193s 10s/step - loss: 0.3642 - dice_metric: 0.7776\n",
      "Epoch 3/20\n",
      "19/19 [==============================] - 188s 10s/step - loss: 0.3344 - dice_metric: 0.7989\n",
      "Epoch 4/20\n",
      "19/19 [==============================] - 188s 10s/step - loss: 0.3118 - dice_metric: 0.8148\n",
      "Epoch 5/20\n",
      "19/19 [==============================] - 190s 10s/step - loss: 0.3023 - dice_metric: 0.8219\n",
      "Epoch 6/20\n",
      "19/19 [==============================] - 190s 10s/step - loss: 0.2909 - dice_metric: 0.8293\n",
      "Epoch 7/20\n",
      "19/19 [==============================] - 190s 10s/step - loss: 0.2832 - dice_metric: 0.8349\n",
      "Epoch 8/20\n",
      "19/19 [==============================] - 189s 10s/step - loss: 0.2771 - dice_metric: 0.8392\n",
      "Epoch 9/20\n",
      "19/19 [==============================] - 192s 10s/step - loss: 0.2742 - dice_metric: 0.8410\n",
      "Epoch 10/20\n",
      "19/19 [==============================] - 188s 10s/step - loss: 0.2709 - dice_metric: 0.8430\n",
      "Epoch 11/20\n",
      "19/19 [==============================] - 191s 10s/step - loss: 0.2689 - dice_metric: 0.8440\n",
      "Epoch 12/20\n",
      "19/19 [==============================] - 188s 10s/step - loss: 0.2640 - dice_metric: 0.8479\n",
      "Epoch 13/20\n",
      "19/19 [==============================] - 189s 10s/step - loss: 0.2631 - dice_metric: 0.8482\n",
      "Epoch 14/20\n",
      "19/19 [==============================] - 188s 10s/step - loss: 0.2607 - dice_metric: 0.8497\n",
      "Epoch 15/20\n",
      "19/19 [==============================] - 188s 10s/step - loss: 0.2583 - dice_metric: 0.8516\n",
      "Epoch 16/20\n",
      "19/19 [==============================] - 189s 10s/step - loss: 0.2555 - dice_metric: 0.8529\n",
      "Epoch 17/20\n",
      "19/19 [==============================] - 189s 10s/step - loss: 0.2541 - dice_metric: 0.8544\n",
      "Epoch 18/20\n",
      "19/19 [==============================] - 188s 10s/step - loss: 0.2518 - dice_metric: 0.8559\n",
      "Epoch 19/20\n",
      "19/19 [==============================] - 189s 10s/step - loss: 0.2507 - dice_metric: 0.8566\n",
      "Epoch 20/20\n",
      "19/19 [==============================] - 188s 10s/step - loss: 0.2500 - dice_metric: 0.8569\n"
     ]
    },
    {
     "data": {
      "text/plain": [
       "4064.658495903015"
      ]
     },
     "execution_count": 301,
     "metadata": {},
     "output_type": "execute_result"
    }
   ],
   "source": [
    "\n",
    "# fit model\n",
    "start = time.time()\n",
    "history = model.fit(\n",
    "    x=x_train384,\n",
    "    y=y_train384,\n",
    "    batch_size=16,\n",
    "    epochs=nb_epochs,\n",
    "    validation_data=(x_val384, y_val384)\n",
    "    #callbacks=[model_checkpoint_callback]\n",
    "    )\n",
    "end = time.time()\n",
    "training_time = end - start\n",
    "training_time"
   ]
  },
  {
   "cell_type": "code",
   "execution_count": null,
   "metadata": {},
   "outputs": [],
   "source": [
    "afficher_resultats(history,'jaccard_loss')# jaccard loss"
   ]
  },
  {
   "attachments": {
    "image-2.png": {
     "image/png": "[encoded data removed]"
    }
   },
   "cell_type": "markdown",
   "metadata": {},
   "source": [
    "![image-2.png](attachment:image-2.png)"
   ]
  },
  {
   "cell_type": "code",
   "execution_count": 303,
   "metadata": {},
   "outputs": [
    {
     "name": "stdout",
     "output_type": "stream",
     "text": [
      "Evaluate on test data\n",
      "4/4 [==============================] - 13s 2s/step - loss: 1.0000 - dice_metric: 1.1800e-06\n",
      "test loss, test acc: [0.9999994039535522, 1.1799651247201837e-06]\n"
     ]
    },
    {
     "data": {
      "image/png": "[encoded data removed]",
      "text/plain": [
       "<Figure size 432x288 with 1 Axes>"
      ]
     },
     "metadata": {
      "needs_background": "light"
     },
     "output_type": "display_data"
    }
   ],
   "source": [
    "predd = model.predict(X_dataTEST384[:1])\n",
    "display_imarge(predd[0])\n",
    "print(\"Evaluate on test data\")\n",
    "results = model.evaluate(X_dataTEST384[:50], mask_8classTEST384[:50], batch_size=16)\n",
    "print(\"test loss, test acc:\", results)"
   ]
  },
  {
   "cell_type": "code",
   "execution_count": 304,
   "metadata": {},
   "outputs": [],
   "source": [
    "liste_resultats['PSPNet_jaccard'] = {\"metric\":results[-1],\"time\":training_time}"
   ]
  },
  {
   "cell_type": "code",
   "execution_count": 305,
   "metadata": {},
   "outputs": [
    {
     "name": "stdout",
     "output_type": "stream",
     "text": [
      "INFO:tensorflow:Assets written to: C:/Users/eloir/Downloads/models_full_DATA/PSPNet_jaccard_20_300\\assets\n"
     ]
    }
   ],
   "source": [
    "#model.save(My_path+'models_full_DATA/'+'PSPNet_jaccard_20_300')"
   ]
  },
  {
   "cell_type": "markdown",
   "metadata": {},
   "source": [
    "### Linknet (jaccard)"
   ]
  },
  {
   "cell_type": "markdown",
   "metadata": {},
   "source": [
    "Model simple (par rapport à Unet)"
   ]
  },
  {
   "attachments": {
    "image.png": {
     "image/png": "[encoded data removed]"
    }
   },
   "cell_type": "markdown",
   "metadata": {},
   "source": [
    "![image.png](attachment:image.png)"
   ]
  },
  {
   "cell_type": "code",
   "execution_count": 36,
   "metadata": {},
   "outputs": [],
   "source": [
    "model = Linknet(BACKBONE, encoder_weights='imagenet', classes=8)\n",
    "model.compile('Adam', loss=jaccard_loss, metrics=[dice_metric])"
   ]
  },
  {
   "cell_type": "code",
   "execution_count": 37,
   "metadata": {},
   "outputs": [
    {
     "name": "stdout",
     "output_type": "stream",
     "text": [
      "Epoch 1/20\n",
      "50/50 [==============================] - 309s 6s/step - loss: 0.7146 - dice_metric: 0.4312 - val_loss: 0.8631 - val_dice_metric: 0.2400\n",
      "Epoch 2/20\n",
      "50/50 [==============================] - 305s 6s/step - loss: 0.3547 - dice_metric: 0.7820 - val_loss: 0.7680 - val_dice_metric: 0.3759\n",
      "Epoch 3/20\n",
      "50/50 [==============================] - 312s 6s/step - loss: 0.2487 - dice_metric: 0.8578 - val_loss: 0.5834 - val_dice_metric: 0.5887\n",
      "Epoch 4/20\n",
      "50/50 [==============================] - 316s 6s/step - loss: 0.2245 - dice_metric: 0.8733 - val_loss: 0.4350 - val_dice_metric: 0.7184\n",
      "Epoch 5/20\n",
      "50/50 [==============================] - 315s 6s/step - loss: 0.2036 - dice_metric: 0.8864 - val_loss: 0.3465 - val_dice_metric: 0.7863\n",
      "Epoch 6/20\n",
      "50/50 [==============================] - 316s 6s/step - loss: 0.1889 - dice_metric: 0.8956 - val_loss: 0.3282 - val_dice_metric: 0.8007\n",
      "Epoch 7/20\n",
      "50/50 [==============================] - 316s 6s/step - loss: 0.1878 - dice_metric: 0.8962 - val_loss: 0.2896 - val_dice_metric: 0.8264\n",
      "Epoch 8/20\n",
      "50/50 [==============================] - 315s 6s/step - loss: 0.1828 - dice_metric: 0.8993 - val_loss: 0.3083 - val_dice_metric: 0.8093\n",
      "Epoch 9/20\n",
      "50/50 [==============================] - 315s 6s/step - loss: 0.1752 - dice_metric: 0.9039 - val_loss: 0.3240 - val_dice_metric: 0.8051\n",
      "Epoch 10/20\n",
      "50/50 [==============================] - 315s 6s/step - loss: 0.1740 - dice_metric: 0.9046 - val_loss: 0.2643 - val_dice_metric: 0.8429\n",
      "Epoch 11/20\n",
      "50/50 [==============================] - 315s 6s/step - loss: 0.1655 - dice_metric: 0.9096 - val_loss: 0.2476 - val_dice_metric: 0.8543\n",
      "Epoch 12/20\n",
      "50/50 [==============================] - 315s 6s/step - loss: 0.1607 - dice_metric: 0.9124 - val_loss: 0.2385 - val_dice_metric: 0.8594\n",
      "Epoch 13/20\n",
      "50/50 [==============================] - 315s 6s/step - loss: 0.1579 - dice_metric: 0.9142 - val_loss: 0.2400 - val_dice_metric: 0.8596\n",
      "Epoch 14/20\n",
      "50/50 [==============================] - 316s 6s/step - loss: 0.1517 - dice_metric: 0.9178 - val_loss: 0.2408 - val_dice_metric: 0.8579\n",
      "Epoch 15/20\n",
      "50/50 [==============================] - 315s 6s/step - loss: 0.1481 - dice_metric: 0.9199 - val_loss: 0.2410 - val_dice_metric: 0.8582\n",
      "Epoch 16/20\n",
      "50/50 [==============================] - 316s 6s/step - loss: 0.1461 - dice_metric: 0.9211 - val_loss: 0.2289 - val_dice_metric: 0.8652\n",
      "Epoch 17/20\n",
      "50/50 [==============================] - 315s 6s/step - loss: 0.1428 - dice_metric: 0.9230 - val_loss: 0.2457 - val_dice_metric: 0.8548\n",
      "Epoch 18/20\n",
      "50/50 [==============================] - 315s 6s/step - loss: 0.1455 - dice_metric: 0.9214 - val_loss: 0.6362 - val_dice_metric: 0.5187\n",
      "Epoch 19/20\n",
      "50/50 [==============================] - 315s 6s/step - loss: 0.1441 - dice_metric: 0.9222 - val_loss: 0.2316 - val_dice_metric: 0.8653\n",
      "Epoch 20/20\n",
      "50/50 [==============================] - 316s 6s/step - loss: 0.1446 - dice_metric: 0.9219 - val_loss: 0.2863 - val_dice_metric: 0.8248\n"
     ]
    },
    {
     "data": {
      "text/plain": [
       "6288.150264501572"
      ]
     },
     "execution_count": 37,
     "metadata": {},
     "output_type": "execute_result"
    }
   ],
   "source": [
    "# fit model\n",
    "start = time.time()\n",
    "history = model.fit(\n",
    "    x=x_train,\n",
    "    y=y_train,\n",
    "    batch_size=16,\n",
    "    epochs=nb_epochs,\n",
    "    validation_data=(x_val, y_val)\n",
    "    )\n",
    "end = time.time()\n",
    "training_time = end - start\n",
    "training_time"
   ]
  },
  {
   "cell_type": "code",
   "execution_count": null,
   "metadata": {},
   "outputs": [],
   "source": [
    "afficher_resultats(history,'jaccard_loss')# jaccard loss"
   ]
  },
  {
   "attachments": {
    "image.png": {
     "image/png": "[encoded data removed]"
    }
   },
   "cell_type": "markdown",
   "metadata": {},
   "source": [
    "![image.png](attachment:image.png)"
   ]
  },
  {
   "cell_type": "code",
   "execution_count": 38,
   "metadata": {},
   "outputs": [
    {
     "name": "stdout",
     "output_type": "stream",
     "text": [
      "Evaluate on test data\n",
      "1/1 [==============================] - 8s 8s/step - loss: 0.9703 - dice_metric: 0.0578\n",
      "test loss, test acc: [0.9702564477920532, 0.057768724858760834]\n"
     ]
    },
    {
     "data": {
      "image/png": "[encoded data removed]",
      "text/plain": [
       "<Figure size 432x288 with 1 Axes>"
      ]
     },
     "metadata": {
      "needs_background": "light"
     },
     "output_type": "display_data"
    }
   ],
   "source": [
    "predd = model.predict(X_dataTEST[:1])\n",
    "display_imarge(predd[0])\n",
    "print(\"Evaluate on test data\")\n",
    "results = model.evaluate(X_dataTEST, mask_8classTEST, batch_size=128)\n",
    "print(\"test loss, test acc:\", results)"
   ]
  },
  {
   "cell_type": "code",
   "execution_count": 39,
   "metadata": {},
   "outputs": [],
   "source": [
    "liste_resultats['LinkNet_jaccard'] = {\"metric\":results[-1],\"time\":training_time}"
   ]
  },
  {
   "cell_type": "code",
   "execution_count": 40,
   "metadata": {},
   "outputs": [],
   "source": [
    "#model.save(My_path+'models_full_DATA/'+'LinkNet_jaccard')"
   ]
  },
  {
   "cell_type": "markdown",
   "metadata": {},
   "source": [
    "### FPN (jaccard)\n",
    "Feature Pyramid Network"
   ]
  },
  {
   "attachments": {
    "image.png": {
     "image/png": "[encoded data removed]"
    }
   },
   "cell_type": "markdown",
   "metadata": {},
   "source": [
    "![image.png](attachment:image.png)"
   ]
  },
  {
   "cell_type": "code",
   "execution_count": 41,
   "metadata": {},
   "outputs": [],
   "source": [
    "model = FPN(BACKBONE, encoder_weights='imagenet', classes=8, input_shape=(256, 256, 3))\n",
    "model.compile('Adam', loss=jaccard_loss, metrics=[dice_metric])"
   ]
  },
  {
   "cell_type": "code",
   "execution_count": 42,
   "metadata": {},
   "outputs": [
    {
     "name": "stdout",
     "output_type": "stream",
     "text": [
      "Model: \"model_5\"\n",
      "__________________________________________________________________________________________________\n",
      " Layer (type)                   Output Shape         Param #     Connected to                     \n",
      "==================================================================================================\n",
      " data (InputLayer)              [(None, 256, 256, 3  0           []                               \n",
      "                                )]                                                                \n",
      "                                                                                                  \n",
      " bn_data (BatchNormalization)   (None, 256, 256, 3)  9           ['data[0][0]']                   \n",
      "                                                                                                  \n",
      " zero_padding2d_68 (ZeroPadding  (None, 262, 262, 3)  0          ['bn_data[0][0]']                \n",
      " 2D)                                                                                              \n",
      "                                                                                                  \n",
      " conv0 (Conv2D)                 (None, 128, 128, 64  9408        ['zero_padding2d_68[0][0]']      \n",
      "                                )                                                                 \n",
      "                                                                                                  \n",
      " bn0 (BatchNormalization)       (None, 128, 128, 64  256         ['conv0[0][0]']                  \n",
      "                                )                                                                 \n",
      "                                                                                                  \n",
      " relu0 (Activation)             (None, 128, 128, 64  0           ['bn0[0][0]']                    \n",
      "                                )                                                                 \n",
      "                                                                                                  \n",
      " zero_padding2d_69 (ZeroPadding  (None, 130, 130, 64  0          ['relu0[0][0]']                  \n",
      " 2D)                            )                                                                 \n",
      "                                                                                                  \n",
      " pooling0 (MaxPooling2D)        (None, 64, 64, 64)   0           ['zero_padding2d_69[0][0]']      \n",
      "                                                                                                  \n",
      " stage1_unit1_bn1 (BatchNormali  (None, 64, 64, 64)  256         ['pooling0[0][0]']               \n",
      " zation)                                                                                          \n",
      "                                                                                                  \n",
      " stage1_unit1_relu1 (Activation  (None, 64, 64, 64)  0           ['stage1_unit1_bn1[0][0]']       \n",
      " )                                                                                                \n",
      "                                                                                                  \n",
      " zero_padding2d_70 (ZeroPadding  (None, 66, 66, 64)  0           ['stage1_unit1_relu1[0][0]']     \n",
      " 2D)                                                                                              \n",
      "                                                                                                  \n",
      " stage1_unit1_conv1 (Conv2D)    (None, 64, 64, 64)   36864       ['zero_padding2d_70[0][0]']      \n",
      "                                                                                                  \n",
      " stage1_unit1_bn2 (BatchNormali  (None, 64, 64, 64)  256         ['stage1_unit1_conv1[0][0]']     \n",
      " zation)                                                                                          \n",
      "                                                                                                  \n",
      " stage1_unit1_relu2 (Activation  (None, 64, 64, 64)  0           ['stage1_unit1_bn2[0][0]']       \n",
      " )                                                                                                \n",
      "                                                                                                  \n",
      " zero_padding2d_71 (ZeroPadding  (None, 66, 66, 64)  0           ['stage1_unit1_relu2[0][0]']     \n",
      " 2D)                                                                                              \n",
      "                                                                                                  \n",
      " stage1_unit1_conv2 (Conv2D)    (None, 64, 64, 64)   36864       ['zero_padding2d_71[0][0]']      \n",
      "                                                                                                  \n",
      " stage1_unit1_sc (Conv2D)       (None, 64, 64, 64)   4096        ['stage1_unit1_relu1[0][0]']     \n",
      "                                                                                                  \n",
      " add_32 (Add)                   (None, 64, 64, 64)   0           ['stage1_unit1_conv2[0][0]',     \n",
      "                                                                  'stage1_unit1_sc[0][0]']        \n",
      "                                                                                                  \n",
      " stage1_unit2_bn1 (BatchNormali  (None, 64, 64, 64)  256         ['add_32[0][0]']                 \n",
      " zation)                                                                                          \n",
      "                                                                                                  \n",
      " stage1_unit2_relu1 (Activation  (None, 64, 64, 64)  0           ['stage1_unit2_bn1[0][0]']       \n",
      " )                                                                                                \n",
      "                                                                                                  \n",
      " zero_padding2d_72 (ZeroPadding  (None, 66, 66, 64)  0           ['stage1_unit2_relu1[0][0]']     \n",
      " 2D)                                                                                              \n",
      "                                                                                                  \n",
      " stage1_unit2_conv1 (Conv2D)    (None, 64, 64, 64)   36864       ['zero_padding2d_72[0][0]']      \n",
      "                                                                                                  \n",
      " stage1_unit2_bn2 (BatchNormali  (None, 64, 64, 64)  256         ['stage1_unit2_conv1[0][0]']     \n",
      " zation)                                                                                          \n",
      "                                                                                                  \n",
      " stage1_unit2_relu2 (Activation  (None, 64, 64, 64)  0           ['stage1_unit2_bn2[0][0]']       \n",
      " )                                                                                                \n",
      "                                                                                                  \n",
      " zero_padding2d_73 (ZeroPadding  (None, 66, 66, 64)  0           ['stage1_unit2_relu2[0][0]']     \n",
      " 2D)                                                                                              \n",
      "                                                                                                  \n",
      " stage1_unit2_conv2 (Conv2D)    (None, 64, 64, 64)   36864       ['zero_padding2d_73[0][0]']      \n",
      "                                                                                                  \n",
      " add_33 (Add)                   (None, 64, 64, 64)   0           ['stage1_unit2_conv2[0][0]',     \n",
      "                                                                  'add_32[0][0]']                 \n",
      "                                                                                                  \n",
      " stage1_unit3_bn1 (BatchNormali  (None, 64, 64, 64)  256         ['add_33[0][0]']                 \n",
      " zation)                                                                                          \n",
      "                                                                                                  \n",
      " stage1_unit3_relu1 (Activation  (None, 64, 64, 64)  0           ['stage1_unit3_bn1[0][0]']       \n",
      " )                                                                                                \n",
      "                                                                                                  \n"
     ]
    },
    {
     "name": "stdout",
     "output_type": "stream",
     "text": [
      " zero_padding2d_74 (ZeroPadding  (None, 66, 66, 64)  0           ['stage1_unit3_relu1[0][0]']     \n",
      " 2D)                                                                                              \n",
      "                                                                                                  \n",
      " stage1_unit3_conv1 (Conv2D)    (None, 64, 64, 64)   36864       ['zero_padding2d_74[0][0]']      \n",
      "                                                                                                  \n",
      " stage1_unit3_bn2 (BatchNormali  (None, 64, 64, 64)  256         ['stage1_unit3_conv1[0][0]']     \n",
      " zation)                                                                                          \n",
      "                                                                                                  \n",
      " stage1_unit3_relu2 (Activation  (None, 64, 64, 64)  0           ['stage1_unit3_bn2[0][0]']       \n",
      " )                                                                                                \n",
      "                                                                                                  \n",
      " zero_padding2d_75 (ZeroPadding  (None, 66, 66, 64)  0           ['stage1_unit3_relu2[0][0]']     \n",
      " 2D)                                                                                              \n",
      "                                                                                                  \n",
      " stage1_unit3_conv2 (Conv2D)    (None, 64, 64, 64)   36864       ['zero_padding2d_75[0][0]']      \n",
      "                                                                                                  \n",
      " add_34 (Add)                   (None, 64, 64, 64)   0           ['stage1_unit3_conv2[0][0]',     \n",
      "                                                                  'add_33[0][0]']                 \n",
      "                                                                                                  \n",
      " stage2_unit1_bn1 (BatchNormali  (None, 64, 64, 64)  256         ['add_34[0][0]']                 \n",
      " zation)                                                                                          \n",
      "                                                                                                  \n",
      " stage2_unit1_relu1 (Activation  (None, 64, 64, 64)  0           ['stage2_unit1_bn1[0][0]']       \n",
      " )                                                                                                \n",
      "                                                                                                  \n",
      " zero_padding2d_76 (ZeroPadding  (None, 66, 66, 64)  0           ['stage2_unit1_relu1[0][0]']     \n",
      " 2D)                                                                                              \n",
      "                                                                                                  \n",
      " stage2_unit1_conv1 (Conv2D)    (None, 32, 32, 128)  73728       ['zero_padding2d_76[0][0]']      \n",
      "                                                                                                  \n",
      " stage2_unit1_bn2 (BatchNormali  (None, 32, 32, 128)  512        ['stage2_unit1_conv1[0][0]']     \n",
      " zation)                                                                                          \n",
      "                                                                                                  \n",
      " stage2_unit1_relu2 (Activation  (None, 32, 32, 128)  0          ['stage2_unit1_bn2[0][0]']       \n",
      " )                                                                                                \n",
      "                                                                                                  \n",
      " zero_padding2d_77 (ZeroPadding  (None, 34, 34, 128)  0          ['stage2_unit1_relu2[0][0]']     \n",
      " 2D)                                                                                              \n",
      "                                                                                                  \n",
      " stage2_unit1_conv2 (Conv2D)    (None, 32, 32, 128)  147456      ['zero_padding2d_77[0][0]']      \n",
      "                                                                                                  \n",
      " stage2_unit1_sc (Conv2D)       (None, 32, 32, 128)  8192        ['stage2_unit1_relu1[0][0]']     \n",
      "                                                                                                  \n",
      " add_35 (Add)                   (None, 32, 32, 128)  0           ['stage2_unit1_conv2[0][0]',     \n",
      "                                                                  'stage2_unit1_sc[0][0]']        \n",
      "                                                                                                  \n",
      " stage2_unit2_bn1 (BatchNormali  (None, 32, 32, 128)  512        ['add_35[0][0]']                 \n",
      " zation)                                                                                          \n",
      "                                                                                                  \n",
      " stage2_unit2_relu1 (Activation  (None, 32, 32, 128)  0          ['stage2_unit2_bn1[0][0]']       \n",
      " )                                                                                                \n",
      "                                                                                                  \n",
      " zero_padding2d_78 (ZeroPadding  (None, 34, 34, 128)  0          ['stage2_unit2_relu1[0][0]']     \n",
      " 2D)                                                                                              \n",
      "                                                                                                  \n",
      " stage2_unit2_conv1 (Conv2D)    (None, 32, 32, 128)  147456      ['zero_padding2d_78[0][0]']      \n",
      "                                                                                                  \n",
      " stage2_unit2_bn2 (BatchNormali  (None, 32, 32, 128)  512        ['stage2_unit2_conv1[0][0]']     \n",
      " zation)                                                                                          \n",
      "                                                                                                  \n",
      " stage2_unit2_relu2 (Activation  (None, 32, 32, 128)  0          ['stage2_unit2_bn2[0][0]']       \n",
      " )                                                                                                \n",
      "                                                                                                  \n",
      " zero_padding2d_79 (ZeroPadding  (None, 34, 34, 128)  0          ['stage2_unit2_relu2[0][0]']     \n",
      " 2D)                                                                                              \n",
      "                                                                                                  \n",
      " stage2_unit2_conv2 (Conv2D)    (None, 32, 32, 128)  147456      ['zero_padding2d_79[0][0]']      \n",
      "                                                                                                  \n",
      " add_36 (Add)                   (None, 32, 32, 128)  0           ['stage2_unit2_conv2[0][0]',     \n",
      "                                                                  'add_35[0][0]']                 \n",
      "                                                                                                  \n",
      " stage2_unit3_bn1 (BatchNormali  (None, 32, 32, 128)  512        ['add_36[0][0]']                 \n",
      " zation)                                                                                          \n",
      "                                                                                                  \n",
      " stage2_unit3_relu1 (Activation  (None, 32, 32, 128)  0          ['stage2_unit3_bn1[0][0]']       \n",
      " )                                                                                                \n",
      "                                                                                                  \n",
      " zero_padding2d_80 (ZeroPadding  (None, 34, 34, 128)  0          ['stage2_unit3_relu1[0][0]']     \n",
      " 2D)                                                                                              \n",
      "                                                                                                  \n",
      " stage2_unit3_conv1 (Conv2D)    (None, 32, 32, 128)  147456      ['zero_padding2d_80[0][0]']      \n",
      "                                                                                                  \n",
      " stage2_unit3_bn2 (BatchNormali  (None, 32, 32, 128)  512        ['stage2_unit3_conv1[0][0]']     \n"
     ]
    },
    {
     "name": "stdout",
     "output_type": "stream",
     "text": [
      " zation)                                                                                          \n",
      "                                                                                                  \n",
      " stage2_unit3_relu2 (Activation  (None, 32, 32, 128)  0          ['stage2_unit3_bn2[0][0]']       \n",
      " )                                                                                                \n",
      "                                                                                                  \n",
      " zero_padding2d_81 (ZeroPadding  (None, 34, 34, 128)  0          ['stage2_unit3_relu2[0][0]']     \n",
      " 2D)                                                                                              \n",
      "                                                                                                  \n",
      " stage2_unit3_conv2 (Conv2D)    (None, 32, 32, 128)  147456      ['zero_padding2d_81[0][0]']      \n",
      "                                                                                                  \n",
      " add_37 (Add)                   (None, 32, 32, 128)  0           ['stage2_unit3_conv2[0][0]',     \n",
      "                                                                  'add_36[0][0]']                 \n",
      "                                                                                                  \n",
      " stage2_unit4_bn1 (BatchNormali  (None, 32, 32, 128)  512        ['add_37[0][0]']                 \n",
      " zation)                                                                                          \n",
      "                                                                                                  \n",
      " stage2_unit4_relu1 (Activation  (None, 32, 32, 128)  0          ['stage2_unit4_bn1[0][0]']       \n",
      " )                                                                                                \n",
      "                                                                                                  \n",
      " zero_padding2d_82 (ZeroPadding  (None, 34, 34, 128)  0          ['stage2_unit4_relu1[0][0]']     \n",
      " 2D)                                                                                              \n",
      "                                                                                                  \n",
      " stage2_unit4_conv1 (Conv2D)    (None, 32, 32, 128)  147456      ['zero_padding2d_82[0][0]']      \n",
      "                                                                                                  \n",
      " stage2_unit4_bn2 (BatchNormali  (None, 32, 32, 128)  512        ['stage2_unit4_conv1[0][0]']     \n",
      " zation)                                                                                          \n",
      "                                                                                                  \n",
      " stage2_unit4_relu2 (Activation  (None, 32, 32, 128)  0          ['stage2_unit4_bn2[0][0]']       \n",
      " )                                                                                                \n",
      "                                                                                                  \n",
      " zero_padding2d_83 (ZeroPadding  (None, 34, 34, 128)  0          ['stage2_unit4_relu2[0][0]']     \n",
      " 2D)                                                                                              \n",
      "                                                                                                  \n",
      " stage2_unit4_conv2 (Conv2D)    (None, 32, 32, 128)  147456      ['zero_padding2d_83[0][0]']      \n",
      "                                                                                                  \n",
      " add_38 (Add)                   (None, 32, 32, 128)  0           ['stage2_unit4_conv2[0][0]',     \n",
      "                                                                  'add_37[0][0]']                 \n",
      "                                                                                                  \n",
      " stage3_unit1_bn1 (BatchNormali  (None, 32, 32, 128)  512        ['add_38[0][0]']                 \n",
      " zation)                                                                                          \n",
      "                                                                                                  \n",
      " stage3_unit1_relu1 (Activation  (None, 32, 32, 128)  0          ['stage3_unit1_bn1[0][0]']       \n",
      " )                                                                                                \n",
      "                                                                                                  \n",
      " zero_padding2d_84 (ZeroPadding  (None, 34, 34, 128)  0          ['stage3_unit1_relu1[0][0]']     \n",
      " 2D)                                                                                              \n",
      "                                                                                                  \n",
      " stage3_unit1_conv1 (Conv2D)    (None, 16, 16, 256)  294912      ['zero_padding2d_84[0][0]']      \n",
      "                                                                                                  \n",
      " stage3_unit1_bn2 (BatchNormali  (None, 16, 16, 256)  1024       ['stage3_unit1_conv1[0][0]']     \n",
      " zation)                                                                                          \n",
      "                                                                                                  \n",
      " stage3_unit1_relu2 (Activation  (None, 16, 16, 256)  0          ['stage3_unit1_bn2[0][0]']       \n",
      " )                                                                                                \n",
      "                                                                                                  \n",
      " zero_padding2d_85 (ZeroPadding  (None, 18, 18, 256)  0          ['stage3_unit1_relu2[0][0]']     \n",
      " 2D)                                                                                              \n",
      "                                                                                                  \n",
      " stage3_unit1_conv2 (Conv2D)    (None, 16, 16, 256)  589824      ['zero_padding2d_85[0][0]']      \n",
      "                                                                                                  \n",
      " stage3_unit1_sc (Conv2D)       (None, 16, 16, 256)  32768       ['stage3_unit1_relu1[0][0]']     \n",
      "                                                                                                  \n",
      " add_39 (Add)                   (None, 16, 16, 256)  0           ['stage3_unit1_conv2[0][0]',     \n",
      "                                                                  'stage3_unit1_sc[0][0]']        \n",
      "                                                                                                  \n",
      " stage3_unit2_bn1 (BatchNormali  (None, 16, 16, 256)  1024       ['add_39[0][0]']                 \n",
      " zation)                                                                                          \n",
      "                                                                                                  \n",
      " stage3_unit2_relu1 (Activation  (None, 16, 16, 256)  0          ['stage3_unit2_bn1[0][0]']       \n",
      " )                                                                                                \n",
      "                                                                                                  \n",
      " zero_padding2d_86 (ZeroPadding  (None, 18, 18, 256)  0          ['stage3_unit2_relu1[0][0]']     \n",
      " 2D)                                                                                              \n",
      "                                                                                                  \n",
      " stage3_unit2_conv1 (Conv2D)    (None, 16, 16, 256)  589824      ['zero_padding2d_86[0][0]']      \n",
      "                                                                                                  \n",
      " stage3_unit2_bn2 (BatchNormali  (None, 16, 16, 256)  1024       ['stage3_unit2_conv1[0][0]']     \n",
      " zation)                                                                                          \n",
      "                                                                                                  \n",
      " stage3_unit2_relu2 (Activation  (None, 16, 16, 256)  0          ['stage3_unit2_bn2[0][0]']       \n",
      " )                                                                                                \n",
      "                                                                                                  \n",
      " zero_padding2d_87 (ZeroPadding  (None, 18, 18, 256)  0          ['stage3_unit2_relu2[0][0]']     \n"
     ]
    },
    {
     "name": "stdout",
     "output_type": "stream",
     "text": [
      " 2D)                                                                                              \n",
      "                                                                                                  \n",
      " stage3_unit2_conv2 (Conv2D)    (None, 16, 16, 256)  589824      ['zero_padding2d_87[0][0]']      \n",
      "                                                                                                  \n",
      " add_40 (Add)                   (None, 16, 16, 256)  0           ['stage3_unit2_conv2[0][0]',     \n",
      "                                                                  'add_39[0][0]']                 \n",
      "                                                                                                  \n",
      " stage3_unit3_bn1 (BatchNormali  (None, 16, 16, 256)  1024       ['add_40[0][0]']                 \n",
      " zation)                                                                                          \n",
      "                                                                                                  \n",
      " stage3_unit3_relu1 (Activation  (None, 16, 16, 256)  0          ['stage3_unit3_bn1[0][0]']       \n",
      " )                                                                                                \n",
      "                                                                                                  \n",
      " zero_padding2d_88 (ZeroPadding  (None, 18, 18, 256)  0          ['stage3_unit3_relu1[0][0]']     \n",
      " 2D)                                                                                              \n",
      "                                                                                                  \n",
      " stage3_unit3_conv1 (Conv2D)    (None, 16, 16, 256)  589824      ['zero_padding2d_88[0][0]']      \n",
      "                                                                                                  \n",
      " stage3_unit3_bn2 (BatchNormali  (None, 16, 16, 256)  1024       ['stage3_unit3_conv1[0][0]']     \n",
      " zation)                                                                                          \n",
      "                                                                                                  \n",
      " stage3_unit3_relu2 (Activation  (None, 16, 16, 256)  0          ['stage3_unit3_bn2[0][0]']       \n",
      " )                                                                                                \n",
      "                                                                                                  \n",
      " zero_padding2d_89 (ZeroPadding  (None, 18, 18, 256)  0          ['stage3_unit3_relu2[0][0]']     \n",
      " 2D)                                                                                              \n",
      "                                                                                                  \n",
      " stage3_unit3_conv2 (Conv2D)    (None, 16, 16, 256)  589824      ['zero_padding2d_89[0][0]']      \n",
      "                                                                                                  \n",
      " add_41 (Add)                   (None, 16, 16, 256)  0           ['stage3_unit3_conv2[0][0]',     \n",
      "                                                                  'add_40[0][0]']                 \n",
      "                                                                                                  \n",
      " stage3_unit4_bn1 (BatchNormali  (None, 16, 16, 256)  1024       ['add_41[0][0]']                 \n",
      " zation)                                                                                          \n",
      "                                                                                                  \n",
      " stage3_unit4_relu1 (Activation  (None, 16, 16, 256)  0          ['stage3_unit4_bn1[0][0]']       \n",
      " )                                                                                                \n",
      "                                                                                                  \n",
      " zero_padding2d_90 (ZeroPadding  (None, 18, 18, 256)  0          ['stage3_unit4_relu1[0][0]']     \n",
      " 2D)                                                                                              \n",
      "                                                                                                  \n",
      " stage3_unit4_conv1 (Conv2D)    (None, 16, 16, 256)  589824      ['zero_padding2d_90[0][0]']      \n",
      "                                                                                                  \n",
      " stage3_unit4_bn2 (BatchNormali  (None, 16, 16, 256)  1024       ['stage3_unit4_conv1[0][0]']     \n",
      " zation)                                                                                          \n",
      "                                                                                                  \n",
      " stage3_unit4_relu2 (Activation  (None, 16, 16, 256)  0          ['stage3_unit4_bn2[0][0]']       \n",
      " )                                                                                                \n",
      "                                                                                                  \n",
      " zero_padding2d_91 (ZeroPadding  (None, 18, 18, 256)  0          ['stage3_unit4_relu2[0][0]']     \n",
      " 2D)                                                                                              \n",
      "                                                                                                  \n",
      " stage3_unit4_conv2 (Conv2D)    (None, 16, 16, 256)  589824      ['zero_padding2d_91[0][0]']      \n",
      "                                                                                                  \n",
      " add_42 (Add)                   (None, 16, 16, 256)  0           ['stage3_unit4_conv2[0][0]',     \n",
      "                                                                  'add_41[0][0]']                 \n",
      "                                                                                                  \n",
      " stage3_unit5_bn1 (BatchNormali  (None, 16, 16, 256)  1024       ['add_42[0][0]']                 \n",
      " zation)                                                                                          \n",
      "                                                                                                  \n",
      " stage3_unit5_relu1 (Activation  (None, 16, 16, 256)  0          ['stage3_unit5_bn1[0][0]']       \n",
      " )                                                                                                \n",
      "                                                                                                  \n",
      " zero_padding2d_92 (ZeroPadding  (None, 18, 18, 256)  0          ['stage3_unit5_relu1[0][0]']     \n",
      " 2D)                                                                                              \n",
      "                                                                                                  \n",
      " stage3_unit5_conv1 (Conv2D)    (None, 16, 16, 256)  589824      ['zero_padding2d_92[0][0]']      \n",
      "                                                                                                  \n",
      " stage3_unit5_bn2 (BatchNormali  (None, 16, 16, 256)  1024       ['stage3_unit5_conv1[0][0]']     \n",
      " zation)                                                                                          \n",
      "                                                                                                  \n",
      " stage3_unit5_relu2 (Activation  (None, 16, 16, 256)  0          ['stage3_unit5_bn2[0][0]']       \n",
      " )                                                                                                \n",
      "                                                                                                  \n",
      " zero_padding2d_93 (ZeroPadding  (None, 18, 18, 256)  0          ['stage3_unit5_relu2[0][0]']     \n",
      " 2D)                                                                                              \n",
      "                                                                                                  \n",
      " stage3_unit5_conv2 (Conv2D)    (None, 16, 16, 256)  589824      ['zero_padding2d_93[0][0]']      \n",
      "                                                                                                  \n",
      " add_43 (Add)                   (None, 16, 16, 256)  0           ['stage3_unit5_conv2[0][0]',     \n",
      "                                                                  'add_42[0][0]']                 \n",
      "                                                                                                  \n",
      " stage3_unit6_bn1 (BatchNormali  (None, 16, 16, 256)  1024       ['add_43[0][0]']                 \n"
     ]
    },
    {
     "name": "stdout",
     "output_type": "stream",
     "text": [
      " zation)                                                                                          \n",
      "                                                                                                  \n",
      " stage3_unit6_relu1 (Activation  (None, 16, 16, 256)  0          ['stage3_unit6_bn1[0][0]']       \n",
      " )                                                                                                \n",
      "                                                                                                  \n",
      " zero_padding2d_94 (ZeroPadding  (None, 18, 18, 256)  0          ['stage3_unit6_relu1[0][0]']     \n",
      " 2D)                                                                                              \n",
      "                                                                                                  \n",
      " stage3_unit6_conv1 (Conv2D)    (None, 16, 16, 256)  589824      ['zero_padding2d_94[0][0]']      \n",
      "                                                                                                  \n",
      " stage3_unit6_bn2 (BatchNormali  (None, 16, 16, 256)  1024       ['stage3_unit6_conv1[0][0]']     \n",
      " zation)                                                                                          \n",
      "                                                                                                  \n",
      " stage3_unit6_relu2 (Activation  (None, 16, 16, 256)  0          ['stage3_unit6_bn2[0][0]']       \n",
      " )                                                                                                \n",
      "                                                                                                  \n",
      " zero_padding2d_95 (ZeroPadding  (None, 18, 18, 256)  0          ['stage3_unit6_relu2[0][0]']     \n",
      " 2D)                                                                                              \n",
      "                                                                                                  \n",
      " stage3_unit6_conv2 (Conv2D)    (None, 16, 16, 256)  589824      ['zero_padding2d_95[0][0]']      \n",
      "                                                                                                  \n",
      " add_44 (Add)                   (None, 16, 16, 256)  0           ['stage3_unit6_conv2[0][0]',     \n",
      "                                                                  'add_43[0][0]']                 \n",
      "                                                                                                  \n",
      " stage4_unit1_bn1 (BatchNormali  (None, 16, 16, 256)  1024       ['add_44[0][0]']                 \n",
      " zation)                                                                                          \n",
      "                                                                                                  \n",
      " stage4_unit1_relu1 (Activation  (None, 16, 16, 256)  0          ['stage4_unit1_bn1[0][0]']       \n",
      " )                                                                                                \n",
      "                                                                                                  \n",
      " zero_padding2d_96 (ZeroPadding  (None, 18, 18, 256)  0          ['stage4_unit1_relu1[0][0]']     \n",
      " 2D)                                                                                              \n",
      "                                                                                                  \n",
      " stage4_unit1_conv1 (Conv2D)    (None, 8, 8, 512)    1179648     ['zero_padding2d_96[0][0]']      \n",
      "                                                                                                  \n",
      " stage4_unit1_bn2 (BatchNormali  (None, 8, 8, 512)   2048        ['stage4_unit1_conv1[0][0]']     \n",
      " zation)                                                                                          \n",
      "                                                                                                  \n",
      " stage4_unit1_relu2 (Activation  (None, 8, 8, 512)   0           ['stage4_unit1_bn2[0][0]']       \n",
      " )                                                                                                \n",
      "                                                                                                  \n",
      " zero_padding2d_97 (ZeroPadding  (None, 10, 10, 512)  0          ['stage4_unit1_relu2[0][0]']     \n",
      " 2D)                                                                                              \n",
      "                                                                                                  \n",
      " stage4_unit1_conv2 (Conv2D)    (None, 8, 8, 512)    2359296     ['zero_padding2d_97[0][0]']      \n",
      "                                                                                                  \n",
      " stage4_unit1_sc (Conv2D)       (None, 8, 8, 512)    131072      ['stage4_unit1_relu1[0][0]']     \n",
      "                                                                                                  \n",
      " add_45 (Add)                   (None, 8, 8, 512)    0           ['stage4_unit1_conv2[0][0]',     \n",
      "                                                                  'stage4_unit1_sc[0][0]']        \n",
      "                                                                                                  \n",
      " stage4_unit2_bn1 (BatchNormali  (None, 8, 8, 512)   2048        ['add_45[0][0]']                 \n",
      " zation)                                                                                          \n",
      "                                                                                                  \n",
      " stage4_unit2_relu1 (Activation  (None, 8, 8, 512)   0           ['stage4_unit2_bn1[0][0]']       \n",
      " )                                                                                                \n",
      "                                                                                                  \n",
      " zero_padding2d_98 (ZeroPadding  (None, 10, 10, 512)  0          ['stage4_unit2_relu1[0][0]']     \n",
      " 2D)                                                                                              \n",
      "                                                                                                  \n",
      " stage4_unit2_conv1 (Conv2D)    (None, 8, 8, 512)    2359296     ['zero_padding2d_98[0][0]']      \n",
      "                                                                                                  \n",
      " stage4_unit2_bn2 (BatchNormali  (None, 8, 8, 512)   2048        ['stage4_unit2_conv1[0][0]']     \n",
      " zation)                                                                                          \n",
      "                                                                                                  \n",
      " stage4_unit2_relu2 (Activation  (None, 8, 8, 512)   0           ['stage4_unit2_bn2[0][0]']       \n",
      " )                                                                                                \n",
      "                                                                                                  \n",
      " zero_padding2d_99 (ZeroPadding  (None, 10, 10, 512)  0          ['stage4_unit2_relu2[0][0]']     \n",
      " 2D)                                                                                              \n",
      "                                                                                                  \n",
      " stage4_unit2_conv2 (Conv2D)    (None, 8, 8, 512)    2359296     ['zero_padding2d_99[0][0]']      \n",
      "                                                                                                  \n",
      " add_46 (Add)                   (None, 8, 8, 512)    0           ['stage4_unit2_conv2[0][0]',     \n",
      "                                                                  'add_45[0][0]']                 \n",
      "                                                                                                  \n",
      " stage4_unit3_bn1 (BatchNormali  (None, 8, 8, 512)   2048        ['add_46[0][0]']                 \n",
      " zation)                                                                                          \n",
      "                                                                                                  \n",
      " stage4_unit3_relu1 (Activation  (None, 8, 8, 512)   0           ['stage4_unit3_bn1[0][0]']       \n",
      " )                                                                                                \n",
      "                                                                                                  \n",
      " zero_padding2d_100 (ZeroPaddin  (None, 10, 10, 512)  0          ['stage4_unit3_relu1[0][0]']     \n"
     ]
    },
    {
     "name": "stdout",
     "output_type": "stream",
     "text": [
      " g2D)                                                                                             \n",
      "                                                                                                  \n",
      " stage4_unit3_conv1 (Conv2D)    (None, 8, 8, 512)    2359296     ['zero_padding2d_100[0][0]']     \n",
      "                                                                                                  \n",
      " stage4_unit3_bn2 (BatchNormali  (None, 8, 8, 512)   2048        ['stage4_unit3_conv1[0][0]']     \n",
      " zation)                                                                                          \n",
      "                                                                                                  \n",
      " stage4_unit3_relu2 (Activation  (None, 8, 8, 512)   0           ['stage4_unit3_bn2[0][0]']       \n",
      " )                                                                                                \n",
      "                                                                                                  \n",
      " zero_padding2d_101 (ZeroPaddin  (None, 10, 10, 512)  0          ['stage4_unit3_relu2[0][0]']     \n",
      " g2D)                                                                                             \n",
      "                                                                                                  \n",
      " stage4_unit3_conv2 (Conv2D)    (None, 8, 8, 512)    2359296     ['zero_padding2d_101[0][0]']     \n",
      "                                                                                                  \n",
      " add_47 (Add)                   (None, 8, 8, 512)    0           ['stage4_unit3_conv2[0][0]',     \n",
      "                                                                  'add_46[0][0]']                 \n",
      "                                                                                                  \n",
      " bn1 (BatchNormalization)       (None, 8, 8, 512)    2048        ['add_47[0][0]']                 \n",
      "                                                                                                  \n",
      " relu1 (Activation)             (None, 8, 8, 512)    0           ['bn1[0][0]']                    \n",
      "                                                                                                  \n",
      " fpn_stage_p5_pre_conv (Conv2D)  (None, 8, 8, 256)   131328      ['relu1[0][0]']                  \n",
      "                                                                                                  \n",
      " fpn_stage_p5_upsampling (UpSam  (None, 16, 16, 256)  0          ['fpn_stage_p5_pre_conv[0][0]']  \n",
      " pling2D)                                                                                         \n",
      "                                                                                                  \n",
      " fpn_stage_p5_conv (Conv2D)     (None, 16, 16, 256)  65792       ['stage4_unit1_relu1[0][0]']     \n",
      "                                                                                                  \n",
      " fpn_stage_p5_add (Add)         (None, 16, 16, 256)  0           ['fpn_stage_p5_upsampling[0][0]',\n",
      "                                                                  'fpn_stage_p5_conv[0][0]']      \n",
      "                                                                                                  \n",
      " fpn_stage_p4_upsampling (UpSam  (None, 32, 32, 256)  0          ['fpn_stage_p5_add[0][0]']       \n",
      " pling2D)                                                                                         \n",
      "                                                                                                  \n",
      " fpn_stage_p4_conv (Conv2D)     (None, 32, 32, 256)  33024       ['stage3_unit1_relu1[0][0]']     \n",
      "                                                                                                  \n",
      " fpn_stage_p4_add (Add)         (None, 32, 32, 256)  0           ['fpn_stage_p4_upsampling[0][0]',\n",
      "                                                                  'fpn_stage_p4_conv[0][0]']      \n",
      "                                                                                                  \n",
      " fpn_stage_p3_upsampling (UpSam  (None, 64, 64, 256)  0          ['fpn_stage_p4_add[0][0]']       \n",
      " pling2D)                                                                                         \n",
      "                                                                                                  \n",
      " fpn_stage_p3_conv (Conv2D)     (None, 64, 64, 256)  16640       ['stage2_unit1_relu1[0][0]']     \n",
      "                                                                                                  \n",
      " fpn_stage_p3_add (Add)         (None, 64, 64, 256)  0           ['fpn_stage_p3_upsampling[0][0]',\n",
      "                                                                  'fpn_stage_p3_conv[0][0]']      \n",
      "                                                                                                  \n",
      " fpn_stage_p2_upsampling (UpSam  (None, 128, 128, 25  0          ['fpn_stage_p3_add[0][0]']       \n",
      " pling2D)                       6)                                                                \n",
      "                                                                                                  \n",
      " fpn_stage_p2_conv (Conv2D)     (None, 128, 128, 25  16640       ['relu0[0][0]']                  \n",
      "                                6)                                                                \n",
      "                                                                                                  \n",
      " fpn_stage_p2_add (Add)         (None, 128, 128, 25  0           ['fpn_stage_p2_upsampling[0][0]',\n",
      "                                6)                                'fpn_stage_p2_conv[0][0]']      \n",
      "                                                                                                  \n",
      " segm_stage3a_conv (Conv2D)     (None, 64, 64, 128)  294912      ['fpn_stage_p3_add[0][0]']       \n",
      "                                                                                                  \n",
      " segm_stage4a_conv (Conv2D)     (None, 32, 32, 128)  294912      ['fpn_stage_p4_add[0][0]']       \n",
      "                                                                                                  \n",
      " segm_stage5a_conv (Conv2D)     (None, 16, 16, 128)  294912      ['fpn_stage_p5_add[0][0]']       \n",
      "                                                                                                  \n",
      " segm_stage2a_conv (Conv2D)     (None, 128, 128, 12  294912      ['fpn_stage_p2_add[0][0]']       \n",
      "                                8)                                                                \n",
      "                                                                                                  \n",
      " segm_stage3a_bn (BatchNormaliz  (None, 64, 64, 128)  512        ['segm_stage3a_conv[0][0]']      \n",
      " ation)                                                                                           \n",
      "                                                                                                  \n",
      " segm_stage4a_bn (BatchNormaliz  (None, 32, 32, 128)  512        ['segm_stage4a_conv[0][0]']      \n",
      " ation)                                                                                           \n",
      "                                                                                                  \n",
      " segm_stage5a_bn (BatchNormaliz  (None, 16, 16, 128)  512        ['segm_stage5a_conv[0][0]']      \n",
      " ation)                                                                                           \n",
      "                                                                                                  \n",
      " segm_stage2a_bn (BatchNormaliz  (None, 128, 128, 12  512        ['segm_stage2a_conv[0][0]']      \n",
      " ation)                         8)                                                                \n",
      "                                                                                                  \n",
      " segm_stage3a_relu (Activation)  (None, 64, 64, 128)  0          ['segm_stage3a_bn[0][0]']        \n",
      "                                                                                                  \n",
      " segm_stage4a_relu (Activation)  (None, 32, 32, 128)  0          ['segm_stage4a_bn[0][0]']        \n",
      "                                                                                                  \n",
      " segm_stage5a_relu (Activation)  (None, 16, 16, 128)  0          ['segm_stage5a_bn[0][0]']        \n"
     ]
    },
    {
     "name": "stdout",
     "output_type": "stream",
     "text": [
      "                                                                                                  \n",
      " segm_stage2a_relu (Activation)  (None, 128, 128, 12  0          ['segm_stage2a_bn[0][0]']        \n",
      "                                8)                                                                \n",
      "                                                                                                  \n",
      " segm_stage3b_conv (Conv2D)     (None, 64, 64, 128)  147456      ['segm_stage3a_relu[0][0]']      \n",
      "                                                                                                  \n",
      " segm_stage4b_conv (Conv2D)     (None, 32, 32, 128)  147456      ['segm_stage4a_relu[0][0]']      \n",
      "                                                                                                  \n",
      " segm_stage5b_conv (Conv2D)     (None, 16, 16, 128)  147456      ['segm_stage5a_relu[0][0]']      \n",
      "                                                                                                  \n",
      " segm_stage2b_conv (Conv2D)     (None, 128, 128, 12  147456      ['segm_stage2a_relu[0][0]']      \n",
      "                                8)                                                                \n",
      "                                                                                                  \n",
      " segm_stage3b_bn (BatchNormaliz  (None, 64, 64, 128)  512        ['segm_stage3b_conv[0][0]']      \n",
      " ation)                                                                                           \n",
      "                                                                                                  \n",
      " segm_stage4b_bn (BatchNormaliz  (None, 32, 32, 128)  512        ['segm_stage4b_conv[0][0]']      \n",
      " ation)                                                                                           \n",
      "                                                                                                  \n",
      " segm_stage5b_bn (BatchNormaliz  (None, 16, 16, 128)  512        ['segm_stage5b_conv[0][0]']      \n",
      " ation)                                                                                           \n",
      "                                                                                                  \n",
      " segm_stage2b_bn (BatchNormaliz  (None, 128, 128, 12  512        ['segm_stage2b_conv[0][0]']      \n",
      " ation)                         8)                                                                \n",
      "                                                                                                  \n",
      " segm_stage3b_relu (Activation)  (None, 64, 64, 128)  0          ['segm_stage3b_bn[0][0]']        \n",
      "                                                                                                  \n",
      " segm_stage4b_relu (Activation)  (None, 32, 32, 128)  0          ['segm_stage4b_bn[0][0]']        \n",
      "                                                                                                  \n",
      " segm_stage5b_relu (Activation)  (None, 16, 16, 128)  0          ['segm_stage5b_bn[0][0]']        \n",
      "                                                                                                  \n",
      " segm_stage2b_relu (Activation)  (None, 128, 128, 12  0          ['segm_stage2b_bn[0][0]']        \n",
      "                                8)                                                                \n",
      "                                                                                                  \n",
      " upsampling_stage3 (UpSampling2  (None, 128, 128, 12  0          ['segm_stage3b_relu[0][0]']      \n",
      " D)                             8)                                                                \n",
      "                                                                                                  \n",
      " upsampling_stage4 (UpSampling2  (None, 128, 128, 12  0          ['segm_stage4b_relu[0][0]']      \n",
      " D)                             8)                                                                \n",
      "                                                                                                  \n",
      " upsampling_stage5 (UpSampling2  (None, 128, 128, 12  0          ['segm_stage5b_relu[0][0]']      \n",
      " D)                             8)                                                                \n",
      "                                                                                                  \n",
      " aggregation_concat (Concatenat  (None, 128, 128, 51  0          ['segm_stage2b_relu[0][0]',      \n",
      " e)                             2)                                'upsampling_stage3[0][0]',      \n",
      "                                                                  'upsampling_stage4[0][0]',      \n",
      "                                                                  'upsampling_stage5[0][0]']      \n",
      "                                                                                                  \n",
      " final_stage_conv (Conv2D)      (None, 128, 128, 12  589824      ['aggregation_concat[0][0]']     \n",
      "                                8)                                                                \n",
      "                                                                                                  \n",
      " final_stage_bn (BatchNormaliza  (None, 128, 128, 12  512        ['final_stage_conv[0][0]']       \n",
      " tion)                          8)                                                                \n",
      "                                                                                                  \n",
      " final_stage_relu (Activation)  (None, 128, 128, 12  0           ['final_stage_bn[0][0]']         \n",
      "                                8)                                                                \n",
      "                                                                                                  \n",
      " final_upsampling (UpSampling2D  (None, 256, 256, 12  0          ['final_stage_relu[0][0]']       \n",
      " )                              8)                                                                \n",
      "                                                                                                  \n",
      " head_conv (Conv2D)             (None, 256, 256, 8)  9224        ['final_upsampling[0][0]']       \n",
      "                                                                                                  \n",
      " softmax (Activation)           (None, 256, 256, 8)  0           ['head_conv[0][0]']              \n",
      "                                                                                                  \n",
      "==================================================================================================\n",
      "Total params: 23,939,025\n",
      "Trainable params: 23,921,355\n",
      "Non-trainable params: 17,670\n",
      "__________________________________________________________________________________________________\n"
     ]
    }
   ],
   "source": [
    "model.summary()"
   ]
  },
  {
   "cell_type": "markdown",
   "metadata": {},
   "source": [
    "use_multiprocessing=True avec/sans => même temps"
   ]
  },
  {
   "cell_type": "code",
   "execution_count": 45,
   "metadata": {},
   "outputs": [
    {
     "name": "stdout",
     "output_type": "stream",
     "text": [
      "Epoch 1/20\n",
      "50/50 [==============================] - 1145s 23s/step - loss: 0.3605 - dice_metric: 0.7716 - val_loss: 0.6304 - val_dice_metric: 0.5349\n",
      "Epoch 2/20\n",
      "50/50 [==============================] - 1129s 23s/step - loss: 0.2309 - dice_metric: 0.8693 - val_loss: 0.3906 - val_dice_metric: 0.7549\n",
      "Epoch 3/20\n",
      "50/50 [==============================] - 1117s 22s/step - loss: 0.2034 - dice_metric: 0.8866 - val_loss: 0.3540 - val_dice_metric: 0.7810\n",
      "Epoch 4/20\n",
      "50/50 [==============================] - 1135s 23s/step - loss: 0.1925 - dice_metric: 0.8933 - val_loss: 0.2922 - val_dice_metric: 0.8253\n",
      "Epoch 5/20\n",
      "50/50 [==============================] - 1130s 23s/step - loss: 0.1862 - dice_metric: 0.8972 - val_loss: 0.3348 - val_dice_metric: 0.7928\n",
      "Epoch 6/20\n",
      "50/50 [==============================] - 1132s 23s/step - loss: 0.1833 - dice_metric: 0.8989 - val_loss: 0.3253 - val_dice_metric: 0.8048\n",
      "Epoch 7/20\n",
      "50/50 [==============================] - 1131s 23s/step - loss: 0.1754 - dice_metric: 0.9037 - val_loss: 0.2679 - val_dice_metric: 0.8390\n",
      "Epoch 8/20\n",
      "50/50 [==============================] - 1119s 22s/step - loss: 0.1679 - dice_metric: 0.9082 - val_loss: 0.2569 - val_dice_metric: 0.8468\n",
      "Epoch 9/20\n",
      "50/50 [==============================] - 1128s 23s/step - loss: 0.1640 - dice_metric: 0.9105 - val_loss: 0.2718 - val_dice_metric: 0.8366\n",
      "Epoch 10/20\n",
      "50/50 [==============================] - 1145s 23s/step - loss: 0.1662 - dice_metric: 0.9092 - val_loss: 0.3437 - val_dice_metric: 0.7881\n",
      "Epoch 11/20\n",
      "50/50 [==============================] - 1132s 23s/step - loss: 0.1640 - dice_metric: 0.9105 - val_loss: 0.2504 - val_dice_metric: 0.8511\n",
      "Epoch 12/20\n",
      "50/50 [==============================] - 1121s 22s/step - loss: 0.1583 - dice_metric: 0.9139 - val_loss: 0.2488 - val_dice_metric: 0.8510\n",
      "Epoch 13/20\n",
      "50/50 [==============================] - 1115s 22s/step - loss: 0.1530 - dice_metric: 0.9170 - val_loss: 0.2436 - val_dice_metric: 0.8547\n",
      "Epoch 14/20\n",
      "50/50 [==============================] - 1124s 22s/step - loss: 0.1519 - dice_metric: 0.9176 - val_loss: 0.2504 - val_dice_metric: 0.8496\n",
      "Epoch 15/20\n",
      "50/50 [==============================] - 1111s 22s/step - loss: 0.1519 - dice_metric: 0.9177 - val_loss: 0.2528 - val_dice_metric: 0.8488\n",
      "Epoch 16/20\n",
      "50/50 [==============================] - 1106s 22s/step - loss: 0.1492 - dice_metric: 0.9192 - val_loss: 0.2546 - val_dice_metric: 0.8479\n",
      "Epoch 17/20\n",
      "50/50 [==============================] - 1109s 22s/step - loss: 0.1452 - dice_metric: 0.9215 - val_loss: 0.2647 - val_dice_metric: 0.8419\n",
      "Epoch 18/20\n",
      "50/50 [==============================] - 1110s 22s/step - loss: 0.1431 - dice_metric: 0.9228 - val_loss: 0.2460 - val_dice_metric: 0.8535\n",
      "Epoch 19/20\n",
      "50/50 [==============================] - 1110s 22s/step - loss: 0.1408 - dice_metric: 0.9241 - val_loss: 0.2525 - val_dice_metric: 0.8492\n",
      "Epoch 20/20\n",
      "50/50 [==============================] - 1108s 22s/step - loss: 0.1392 - dice_metric: 0.9250 - val_loss: 0.2640 - val_dice_metric: 0.8419\n"
     ]
    },
    {
     "data": {
      "text/plain": [
       "22460.50908112526"
      ]
     },
     "execution_count": 45,
     "metadata": {},
     "output_type": "execute_result"
    }
   ],
   "source": [
    "# fit model\n",
    "start = time.time()\n",
    "history = model.fit(\n",
    "    x=x_train,\n",
    "    y=y_train,\n",
    "    batch_size=16,\n",
    "    epochs=nb_epochs,\n",
    "    validation_data=(x_val, y_val)\n",
    "    )\n",
    "end = time.time()\n",
    "training_time = end - start\n",
    "training_time"
   ]
  },
  {
   "cell_type": "code",
   "execution_count": null,
   "metadata": {},
   "outputs": [],
   "source": [
    "afficher_resultats(history,'jaccard_loss')# jaccard loss"
   ]
  },
  {
   "cell_type": "code",
   "execution_count": 46,
   "metadata": {},
   "outputs": [],
   "source": [
    "# sans 293 / avec 290 (, use_multiprocessing=True)"
   ]
  },
  {
   "cell_type": "code",
   "execution_count": 47,
   "metadata": {},
   "outputs": [
    {
     "name": "stdout",
     "output_type": "stream",
     "text": [
      "Evaluate on test data\n",
      "7/7 [==============================] - 28s 4s/step - loss: 0.9591 - dice_metric: 0.0806\n",
      "test loss, test acc: [0.9591286182403564, 0.08055661618709564]\n"
     ]
    },
    {
     "data": {
      "image/png": "[encoded data removed]",
      "text/plain": [
       "<Figure size 432x288 with 1 Axes>"
      ]
     },
     "metadata": {
      "needs_background": "light"
     },
     "output_type": "display_data"
    }
   ],
   "source": [
    "predd = model.predict(X_dataTEST[:1])\n",
    "display_imarge(predd[0])\n",
    "print(\"Evaluate on test data\")\n",
    "results = model.evaluate(X_dataTEST, mask_8classTEST, batch_size=16)\n",
    "print(\"test loss, test acc:\", results)"
   ]
  },
  {
   "cell_type": "code",
   "execution_count": 48,
   "metadata": {},
   "outputs": [],
   "source": [
    "liste_resultats['FPN_jaccard'] = {\"metric\":results[-1],\"time\":training_time}"
   ]
  },
  {
   "cell_type": "code",
   "execution_count": 49,
   "metadata": {},
   "outputs": [],
   "source": [
    "#model.save(My_path+'models_full_DATA/'+'FPN_jaccard')"
   ]
  },
  {
   "cell_type": "markdown",
   "metadata": {},
   "source": [
    "## Choix de l'encoder"
   ]
  },
  {
   "cell_type": "markdown",
   "metadata": {},
   "source": [
    "### Unet (resNet)"
   ]
  },
  {
   "attachments": {
    "image.png": {
     "image/png": "[encoded data removed]"
    }
   },
   "cell_type": "markdown",
   "metadata": {},
   "source": [
    "![image.png](attachment:image.png)"
   ]
  },
  {
   "cell_type": "code",
   "execution_count": 50,
   "metadata": {
    "executionInfo": {
     "elapsed": 2637,
     "status": "ok",
     "timestamp": 1654272965503,
     "user": {
      "displayName": "Eloi",
      "userId": "03153732686645930687"
     },
     "user_tz": -120
    },
    "id": "_sZJ4Hy2Oa71"
   },
   "outputs": [],
   "source": [
    "model = Unet(BACKBONE, encoder_weights='imagenet', classes=8)\n",
    "model.compile('Adam', loss=jaccard_loss, metrics=[dice_metric])"
   ]
  },
  {
   "cell_type": "code",
   "execution_count": 51,
   "metadata": {},
   "outputs": [
    {
     "name": "stdout",
     "output_type": "stream",
     "text": [
      "Model: \"model_7\"\n",
      "__________________________________________________________________________________________________\n",
      " Layer (type)                   Output Shape         Param #     Connected to                     \n",
      "==================================================================================================\n",
      " data (InputLayer)              [(None, None, None,  0           []                               \n",
      "                                 3)]                                                              \n",
      "                                                                                                  \n",
      " bn_data (BatchNormalization)   (None, None, None,   9           ['data[0][0]']                   \n",
      "                                3)                                                                \n",
      "                                                                                                  \n",
      " zero_padding2d_102 (ZeroPaddin  (None, None, None,   0          ['bn_data[0][0]']                \n",
      " g2D)                           3)                                                                \n",
      "                                                                                                  \n",
      " conv0 (Conv2D)                 (None, None, None,   9408        ['zero_padding2d_102[0][0]']     \n",
      "                                64)                                                               \n",
      "                                                                                                  \n",
      " bn0 (BatchNormalization)       (None, None, None,   256         ['conv0[0][0]']                  \n",
      "                                64)                                                               \n",
      "                                                                                                  \n",
      " relu0 (Activation)             (None, None, None,   0           ['bn0[0][0]']                    \n",
      "                                64)                                                               \n",
      "                                                                                                  \n",
      " zero_padding2d_103 (ZeroPaddin  (None, None, None,   0          ['relu0[0][0]']                  \n",
      " g2D)                           64)                                                               \n",
      "                                                                                                  \n",
      " pooling0 (MaxPooling2D)        (None, None, None,   0           ['zero_padding2d_103[0][0]']     \n",
      "                                64)                                                               \n",
      "                                                                                                  \n",
      " stage1_unit1_bn1 (BatchNormali  (None, None, None,   256        ['pooling0[0][0]']               \n",
      " zation)                        64)                                                               \n",
      "                                                                                                  \n",
      " stage1_unit1_relu1 (Activation  (None, None, None,   0          ['stage1_unit1_bn1[0][0]']       \n",
      " )                              64)                                                               \n",
      "                                                                                                  \n",
      " zero_padding2d_104 (ZeroPaddin  (None, None, None,   0          ['stage1_unit1_relu1[0][0]']     \n",
      " g2D)                           64)                                                               \n",
      "                                                                                                  \n",
      " stage1_unit1_conv1 (Conv2D)    (None, None, None,   36864       ['zero_padding2d_104[0][0]']     \n",
      "                                64)                                                               \n",
      "                                                                                                  \n",
      " stage1_unit1_bn2 (BatchNormali  (None, None, None,   256        ['stage1_unit1_conv1[0][0]']     \n",
      " zation)                        64)                                                               \n",
      "                                                                                                  \n",
      " stage1_unit1_relu2 (Activation  (None, None, None,   0          ['stage1_unit1_bn2[0][0]']       \n",
      " )                              64)                                                               \n",
      "                                                                                                  \n",
      " zero_padding2d_105 (ZeroPaddin  (None, None, None,   0          ['stage1_unit1_relu2[0][0]']     \n",
      " g2D)                           64)                                                               \n",
      "                                                                                                  \n",
      " stage1_unit1_conv2 (Conv2D)    (None, None, None,   36864       ['zero_padding2d_105[0][0]']     \n",
      "                                64)                                                               \n",
      "                                                                                                  \n",
      " stage1_unit1_sc (Conv2D)       (None, None, None,   4096        ['stage1_unit1_relu1[0][0]']     \n",
      "                                64)                                                               \n",
      "                                                                                                  \n",
      " add_48 (Add)                   (None, None, None,   0           ['stage1_unit1_conv2[0][0]',     \n",
      "                                64)                               'stage1_unit1_sc[0][0]']        \n",
      "                                                                                                  \n",
      " stage1_unit2_bn1 (BatchNormali  (None, None, None,   256        ['add_48[0][0]']                 \n",
      " zation)                        64)                                                               \n",
      "                                                                                                  \n",
      " stage1_unit2_relu1 (Activation  (None, None, None,   0          ['stage1_unit2_bn1[0][0]']       \n",
      " )                              64)                                                               \n",
      "                                                                                                  \n",
      " zero_padding2d_106 (ZeroPaddin  (None, None, None,   0          ['stage1_unit2_relu1[0][0]']     \n",
      " g2D)                           64)                                                               \n",
      "                                                                                                  \n",
      " stage1_unit2_conv1 (Conv2D)    (None, None, None,   36864       ['zero_padding2d_106[0][0]']     \n",
      "                                64)                                                               \n",
      "                                                                                                  \n",
      " stage1_unit2_bn2 (BatchNormali  (None, None, None,   256        ['stage1_unit2_conv1[0][0]']     \n",
      " zation)                        64)                                                               \n",
      "                                                                                                  \n",
      " stage1_unit2_relu2 (Activation  (None, None, None,   0          ['stage1_unit2_bn2[0][0]']       \n",
      " )                              64)                                                               \n",
      "                                                                                                  \n",
      " zero_padding2d_107 (ZeroPaddin  (None, None, None,   0          ['stage1_unit2_relu2[0][0]']     \n",
      " g2D)                           64)                                                               \n",
      "                                                                                                  \n",
      " stage1_unit2_conv2 (Conv2D)    (None, None, None,   36864       ['zero_padding2d_107[0][0]']     \n",
      "                                64)                                                               \n",
      "                                                                                                  \n",
      " add_49 (Add)                   (None, None, None,   0           ['stage1_unit2_conv2[0][0]',     \n",
      "                                64)                               'add_48[0][0]']                 \n"
     ]
    },
    {
     "name": "stdout",
     "output_type": "stream",
     "text": [
      "                                                                                                  \n",
      " stage1_unit3_bn1 (BatchNormali  (None, None, None,   256        ['add_49[0][0]']                 \n",
      " zation)                        64)                                                               \n",
      "                                                                                                  \n",
      " stage1_unit3_relu1 (Activation  (None, None, None,   0          ['stage1_unit3_bn1[0][0]']       \n",
      " )                              64)                                                               \n",
      "                                                                                                  \n",
      " zero_padding2d_108 (ZeroPaddin  (None, None, None,   0          ['stage1_unit3_relu1[0][0]']     \n",
      " g2D)                           64)                                                               \n",
      "                                                                                                  \n",
      " stage1_unit3_conv1 (Conv2D)    (None, None, None,   36864       ['zero_padding2d_108[0][0]']     \n",
      "                                64)                                                               \n",
      "                                                                                                  \n",
      " stage1_unit3_bn2 (BatchNormali  (None, None, None,   256        ['stage1_unit3_conv1[0][0]']     \n",
      " zation)                        64)                                                               \n",
      "                                                                                                  \n",
      " stage1_unit3_relu2 (Activation  (None, None, None,   0          ['stage1_unit3_bn2[0][0]']       \n",
      " )                              64)                                                               \n",
      "                                                                                                  \n",
      " zero_padding2d_109 (ZeroPaddin  (None, None, None,   0          ['stage1_unit3_relu2[0][0]']     \n",
      " g2D)                           64)                                                               \n",
      "                                                                                                  \n",
      " stage1_unit3_conv2 (Conv2D)    (None, None, None,   36864       ['zero_padding2d_109[0][0]']     \n",
      "                                64)                                                               \n",
      "                                                                                                  \n",
      " add_50 (Add)                   (None, None, None,   0           ['stage1_unit3_conv2[0][0]',     \n",
      "                                64)                               'add_49[0][0]']                 \n",
      "                                                                                                  \n",
      " stage2_unit1_bn1 (BatchNormali  (None, None, None,   256        ['add_50[0][0]']                 \n",
      " zation)                        64)                                                               \n",
      "                                                                                                  \n",
      " stage2_unit1_relu1 (Activation  (None, None, None,   0          ['stage2_unit1_bn1[0][0]']       \n",
      " )                              64)                                                               \n",
      "                                                                                                  \n",
      " zero_padding2d_110 (ZeroPaddin  (None, None, None,   0          ['stage2_unit1_relu1[0][0]']     \n",
      " g2D)                           64)                                                               \n",
      "                                                                                                  \n",
      " stage2_unit1_conv1 (Conv2D)    (None, None, None,   73728       ['zero_padding2d_110[0][0]']     \n",
      "                                128)                                                              \n",
      "                                                                                                  \n",
      " stage2_unit1_bn2 (BatchNormali  (None, None, None,   512        ['stage2_unit1_conv1[0][0]']     \n",
      " zation)                        128)                                                              \n",
      "                                                                                                  \n",
      " stage2_unit1_relu2 (Activation  (None, None, None,   0          ['stage2_unit1_bn2[0][0]']       \n",
      " )                              128)                                                              \n",
      "                                                                                                  \n",
      " zero_padding2d_111 (ZeroPaddin  (None, None, None,   0          ['stage2_unit1_relu2[0][0]']     \n",
      " g2D)                           128)                                                              \n",
      "                                                                                                  \n",
      " stage2_unit1_conv2 (Conv2D)    (None, None, None,   147456      ['zero_padding2d_111[0][0]']     \n",
      "                                128)                                                              \n",
      "                                                                                                  \n",
      " stage2_unit1_sc (Conv2D)       (None, None, None,   8192        ['stage2_unit1_relu1[0][0]']     \n",
      "                                128)                                                              \n",
      "                                                                                                  \n",
      " add_51 (Add)                   (None, None, None,   0           ['stage2_unit1_conv2[0][0]',     \n",
      "                                128)                              'stage2_unit1_sc[0][0]']        \n",
      "                                                                                                  \n",
      " stage2_unit2_bn1 (BatchNormali  (None, None, None,   512        ['add_51[0][0]']                 \n",
      " zation)                        128)                                                              \n",
      "                                                                                                  \n",
      " stage2_unit2_relu1 (Activation  (None, None, None,   0          ['stage2_unit2_bn1[0][0]']       \n",
      " )                              128)                                                              \n",
      "                                                                                                  \n",
      " zero_padding2d_112 (ZeroPaddin  (None, None, None,   0          ['stage2_unit2_relu1[0][0]']     \n",
      " g2D)                           128)                                                              \n",
      "                                                                                                  \n",
      " stage2_unit2_conv1 (Conv2D)    (None, None, None,   147456      ['zero_padding2d_112[0][0]']     \n",
      "                                128)                                                              \n",
      "                                                                                                  \n",
      " stage2_unit2_bn2 (BatchNormali  (None, None, None,   512        ['stage2_unit2_conv1[0][0]']     \n",
      " zation)                        128)                                                              \n",
      "                                                                                                  \n",
      " stage2_unit2_relu2 (Activation  (None, None, None,   0          ['stage2_unit2_bn2[0][0]']       \n",
      " )                              128)                                                              \n",
      "                                                                                                  \n",
      " zero_padding2d_113 (ZeroPaddin  (None, None, None,   0          ['stage2_unit2_relu2[0][0]']     \n",
      " g2D)                           128)                                                              \n",
      "                                                                                                  \n",
      " stage2_unit2_conv2 (Conv2D)    (None, None, None,   147456      ['zero_padding2d_113[0][0]']     \n",
      "                                128)                                                              \n",
      "                                                                                                  \n",
      " add_52 (Add)                   (None, None, None,   0           ['stage2_unit2_conv2[0][0]',     \n"
     ]
    },
    {
     "name": "stdout",
     "output_type": "stream",
     "text": [
      "                                128)                              'add_51[0][0]']                 \n",
      "                                                                                                  \n",
      " stage2_unit3_bn1 (BatchNormali  (None, None, None,   512        ['add_52[0][0]']                 \n",
      " zation)                        128)                                                              \n",
      "                                                                                                  \n",
      " stage2_unit3_relu1 (Activation  (None, None, None,   0          ['stage2_unit3_bn1[0][0]']       \n",
      " )                              128)                                                              \n",
      "                                                                                                  \n",
      " zero_padding2d_114 (ZeroPaddin  (None, None, None,   0          ['stage2_unit3_relu1[0][0]']     \n",
      " g2D)                           128)                                                              \n",
      "                                                                                                  \n",
      " stage2_unit3_conv1 (Conv2D)    (None, None, None,   147456      ['zero_padding2d_114[0][0]']     \n",
      "                                128)                                                              \n",
      "                                                                                                  \n",
      " stage2_unit3_bn2 (BatchNormali  (None, None, None,   512        ['stage2_unit3_conv1[0][0]']     \n",
      " zation)                        128)                                                              \n",
      "                                                                                                  \n",
      " stage2_unit3_relu2 (Activation  (None, None, None,   0          ['stage2_unit3_bn2[0][0]']       \n",
      " )                              128)                                                              \n",
      "                                                                                                  \n",
      " zero_padding2d_115 (ZeroPaddin  (None, None, None,   0          ['stage2_unit3_relu2[0][0]']     \n",
      " g2D)                           128)                                                              \n",
      "                                                                                                  \n",
      " stage2_unit3_conv2 (Conv2D)    (None, None, None,   147456      ['zero_padding2d_115[0][0]']     \n",
      "                                128)                                                              \n",
      "                                                                                                  \n",
      " add_53 (Add)                   (None, None, None,   0           ['stage2_unit3_conv2[0][0]',     \n",
      "                                128)                              'add_52[0][0]']                 \n",
      "                                                                                                  \n",
      " stage2_unit4_bn1 (BatchNormali  (None, None, None,   512        ['add_53[0][0]']                 \n",
      " zation)                        128)                                                              \n",
      "                                                                                                  \n",
      " stage2_unit4_relu1 (Activation  (None, None, None,   0          ['stage2_unit4_bn1[0][0]']       \n",
      " )                              128)                                                              \n",
      "                                                                                                  \n",
      " zero_padding2d_116 (ZeroPaddin  (None, None, None,   0          ['stage2_unit4_relu1[0][0]']     \n",
      " g2D)                           128)                                                              \n",
      "                                                                                                  \n",
      " stage2_unit4_conv1 (Conv2D)    (None, None, None,   147456      ['zero_padding2d_116[0][0]']     \n",
      "                                128)                                                              \n",
      "                                                                                                  \n",
      " stage2_unit4_bn2 (BatchNormali  (None, None, None,   512        ['stage2_unit4_conv1[0][0]']     \n",
      " zation)                        128)                                                              \n",
      "                                                                                                  \n",
      " stage2_unit4_relu2 (Activation  (None, None, None,   0          ['stage2_unit4_bn2[0][0]']       \n",
      " )                              128)                                                              \n",
      "                                                                                                  \n",
      " zero_padding2d_117 (ZeroPaddin  (None, None, None,   0          ['stage2_unit4_relu2[0][0]']     \n",
      " g2D)                           128)                                                              \n",
      "                                                                                                  \n",
      " stage2_unit4_conv2 (Conv2D)    (None, None, None,   147456      ['zero_padding2d_117[0][0]']     \n",
      "                                128)                                                              \n",
      "                                                                                                  \n",
      " add_54 (Add)                   (None, None, None,   0           ['stage2_unit4_conv2[0][0]',     \n",
      "                                128)                              'add_53[0][0]']                 \n",
      "                                                                                                  \n",
      " stage3_unit1_bn1 (BatchNormali  (None, None, None,   512        ['add_54[0][0]']                 \n",
      " zation)                        128)                                                              \n",
      "                                                                                                  \n",
      " stage3_unit1_relu1 (Activation  (None, None, None,   0          ['stage3_unit1_bn1[0][0]']       \n",
      " )                              128)                                                              \n",
      "                                                                                                  \n",
      " zero_padding2d_118 (ZeroPaddin  (None, None, None,   0          ['stage3_unit1_relu1[0][0]']     \n",
      " g2D)                           128)                                                              \n",
      "                                                                                                  \n",
      " stage3_unit1_conv1 (Conv2D)    (None, None, None,   294912      ['zero_padding2d_118[0][0]']     \n",
      "                                256)                                                              \n",
      "                                                                                                  \n",
      " stage3_unit1_bn2 (BatchNormali  (None, None, None,   1024       ['stage3_unit1_conv1[0][0]']     \n",
      " zation)                        256)                                                              \n",
      "                                                                                                  \n",
      " stage3_unit1_relu2 (Activation  (None, None, None,   0          ['stage3_unit1_bn2[0][0]']       \n",
      " )                              256)                                                              \n",
      "                                                                                                  \n",
      " zero_padding2d_119 (ZeroPaddin  (None, None, None,   0          ['stage3_unit1_relu2[0][0]']     \n",
      " g2D)                           256)                                                              \n",
      "                                                                                                  \n",
      " stage3_unit1_conv2 (Conv2D)    (None, None, None,   589824      ['zero_padding2d_119[0][0]']     \n",
      "                                256)                                                              \n",
      "                                                                                                  \n",
      " stage3_unit1_sc (Conv2D)       (None, None, None,   32768       ['stage3_unit1_relu1[0][0]']     \n",
      "                                256)                                                              \n",
      "                                                                                                  \n"
     ]
    },
    {
     "name": "stdout",
     "output_type": "stream",
     "text": [
      " add_55 (Add)                   (None, None, None,   0           ['stage3_unit1_conv2[0][0]',     \n",
      "                                256)                              'stage3_unit1_sc[0][0]']        \n",
      "                                                                                                  \n",
      " stage3_unit2_bn1 (BatchNormali  (None, None, None,   1024       ['add_55[0][0]']                 \n",
      " zation)                        256)                                                              \n",
      "                                                                                                  \n",
      " stage3_unit2_relu1 (Activation  (None, None, None,   0          ['stage3_unit2_bn1[0][0]']       \n",
      " )                              256)                                                              \n",
      "                                                                                                  \n",
      " zero_padding2d_120 (ZeroPaddin  (None, None, None,   0          ['stage3_unit2_relu1[0][0]']     \n",
      " g2D)                           256)                                                              \n",
      "                                                                                                  \n",
      " stage3_unit2_conv1 (Conv2D)    (None, None, None,   589824      ['zero_padding2d_120[0][0]']     \n",
      "                                256)                                                              \n",
      "                                                                                                  \n",
      " stage3_unit2_bn2 (BatchNormali  (None, None, None,   1024       ['stage3_unit2_conv1[0][0]']     \n",
      " zation)                        256)                                                              \n",
      "                                                                                                  \n",
      " stage3_unit2_relu2 (Activation  (None, None, None,   0          ['stage3_unit2_bn2[0][0]']       \n",
      " )                              256)                                                              \n",
      "                                                                                                  \n",
      " zero_padding2d_121 (ZeroPaddin  (None, None, None,   0          ['stage3_unit2_relu2[0][0]']     \n",
      " g2D)                           256)                                                              \n",
      "                                                                                                  \n",
      " stage3_unit2_conv2 (Conv2D)    (None, None, None,   589824      ['zero_padding2d_121[0][0]']     \n",
      "                                256)                                                              \n",
      "                                                                                                  \n",
      " add_56 (Add)                   (None, None, None,   0           ['stage3_unit2_conv2[0][0]',     \n",
      "                                256)                              'add_55[0][0]']                 \n",
      "                                                                                                  \n",
      " stage3_unit3_bn1 (BatchNormali  (None, None, None,   1024       ['add_56[0][0]']                 \n",
      " zation)                        256)                                                              \n",
      "                                                                                                  \n",
      " stage3_unit3_relu1 (Activation  (None, None, None,   0          ['stage3_unit3_bn1[0][0]']       \n",
      " )                              256)                                                              \n",
      "                                                                                                  \n",
      " zero_padding2d_122 (ZeroPaddin  (None, None, None,   0          ['stage3_unit3_relu1[0][0]']     \n",
      " g2D)                           256)                                                              \n",
      "                                                                                                  \n",
      " stage3_unit3_conv1 (Conv2D)    (None, None, None,   589824      ['zero_padding2d_122[0][0]']     \n",
      "                                256)                                                              \n",
      "                                                                                                  \n",
      " stage3_unit3_bn2 (BatchNormali  (None, None, None,   1024       ['stage3_unit3_conv1[0][0]']     \n",
      " zation)                        256)                                                              \n",
      "                                                                                                  \n",
      " stage3_unit3_relu2 (Activation  (None, None, None,   0          ['stage3_unit3_bn2[0][0]']       \n",
      " )                              256)                                                              \n",
      "                                                                                                  \n",
      " zero_padding2d_123 (ZeroPaddin  (None, None, None,   0          ['stage3_unit3_relu2[0][0]']     \n",
      " g2D)                           256)                                                              \n",
      "                                                                                                  \n",
      " stage3_unit3_conv2 (Conv2D)    (None, None, None,   589824      ['zero_padding2d_123[0][0]']     \n",
      "                                256)                                                              \n",
      "                                                                                                  \n",
      " add_57 (Add)                   (None, None, None,   0           ['stage3_unit3_conv2[0][0]',     \n",
      "                                256)                              'add_56[0][0]']                 \n",
      "                                                                                                  \n",
      " stage3_unit4_bn1 (BatchNormali  (None, None, None,   1024       ['add_57[0][0]']                 \n",
      " zation)                        256)                                                              \n",
      "                                                                                                  \n",
      " stage3_unit4_relu1 (Activation  (None, None, None,   0          ['stage3_unit4_bn1[0][0]']       \n",
      " )                              256)                                                              \n",
      "                                                                                                  \n",
      " zero_padding2d_124 (ZeroPaddin  (None, None, None,   0          ['stage3_unit4_relu1[0][0]']     \n",
      " g2D)                           256)                                                              \n",
      "                                                                                                  \n",
      " stage3_unit4_conv1 (Conv2D)    (None, None, None,   589824      ['zero_padding2d_124[0][0]']     \n",
      "                                256)                                                              \n",
      "                                                                                                  \n",
      " stage3_unit4_bn2 (BatchNormali  (None, None, None,   1024       ['stage3_unit4_conv1[0][0]']     \n",
      " zation)                        256)                                                              \n",
      "                                                                                                  \n",
      " stage3_unit4_relu2 (Activation  (None, None, None,   0          ['stage3_unit4_bn2[0][0]']       \n",
      " )                              256)                                                              \n",
      "                                                                                                  \n",
      " zero_padding2d_125 (ZeroPaddin  (None, None, None,   0          ['stage3_unit4_relu2[0][0]']     \n",
      " g2D)                           256)                                                              \n",
      "                                                                                                  \n",
      " stage3_unit4_conv2 (Conv2D)    (None, None, None,   589824      ['zero_padding2d_125[0][0]']     \n",
      "                                256)                                                              \n",
      "                                                                                                  \n",
      " add_58 (Add)                   (None, None, None,   0           ['stage3_unit4_conv2[0][0]',     \n",
      "                                256)                              'add_57[0][0]']                 \n"
     ]
    },
    {
     "name": "stdout",
     "output_type": "stream",
     "text": [
      "                                                                                                  \n",
      " stage3_unit5_bn1 (BatchNormali  (None, None, None,   1024       ['add_58[0][0]']                 \n",
      " zation)                        256)                                                              \n",
      "                                                                                                  \n",
      " stage3_unit5_relu1 (Activation  (None, None, None,   0          ['stage3_unit5_bn1[0][0]']       \n",
      " )                              256)                                                              \n",
      "                                                                                                  \n",
      " zero_padding2d_126 (ZeroPaddin  (None, None, None,   0          ['stage3_unit5_relu1[0][0]']     \n",
      " g2D)                           256)                                                              \n",
      "                                                                                                  \n",
      " stage3_unit5_conv1 (Conv2D)    (None, None, None,   589824      ['zero_padding2d_126[0][0]']     \n",
      "                                256)                                                              \n",
      "                                                                                                  \n",
      " stage3_unit5_bn2 (BatchNormali  (None, None, None,   1024       ['stage3_unit5_conv1[0][0]']     \n",
      " zation)                        256)                                                              \n",
      "                                                                                                  \n",
      " stage3_unit5_relu2 (Activation  (None, None, None,   0          ['stage3_unit5_bn2[0][0]']       \n",
      " )                              256)                                                              \n",
      "                                                                                                  \n",
      " zero_padding2d_127 (ZeroPaddin  (None, None, None,   0          ['stage3_unit5_relu2[0][0]']     \n",
      " g2D)                           256)                                                              \n",
      "                                                                                                  \n",
      " stage3_unit5_conv2 (Conv2D)    (None, None, None,   589824      ['zero_padding2d_127[0][0]']     \n",
      "                                256)                                                              \n",
      "                                                                                                  \n",
      " add_59 (Add)                   (None, None, None,   0           ['stage3_unit5_conv2[0][0]',     \n",
      "                                256)                              'add_58[0][0]']                 \n",
      "                                                                                                  \n",
      " stage3_unit6_bn1 (BatchNormali  (None, None, None,   1024       ['add_59[0][0]']                 \n",
      " zation)                        256)                                                              \n",
      "                                                                                                  \n",
      " stage3_unit6_relu1 (Activation  (None, None, None,   0          ['stage3_unit6_bn1[0][0]']       \n",
      " )                              256)                                                              \n",
      "                                                                                                  \n",
      " zero_padding2d_128 (ZeroPaddin  (None, None, None,   0          ['stage3_unit6_relu1[0][0]']     \n",
      " g2D)                           256)                                                              \n",
      "                                                                                                  \n",
      " stage3_unit6_conv1 (Conv2D)    (None, None, None,   589824      ['zero_padding2d_128[0][0]']     \n",
      "                                256)                                                              \n",
      "                                                                                                  \n",
      " stage3_unit6_bn2 (BatchNormali  (None, None, None,   1024       ['stage3_unit6_conv1[0][0]']     \n",
      " zation)                        256)                                                              \n",
      "                                                                                                  \n",
      " stage3_unit6_relu2 (Activation  (None, None, None,   0          ['stage3_unit6_bn2[0][0]']       \n",
      " )                              256)                                                              \n",
      "                                                                                                  \n",
      " zero_padding2d_129 (ZeroPaddin  (None, None, None,   0          ['stage3_unit6_relu2[0][0]']     \n",
      " g2D)                           256)                                                              \n",
      "                                                                                                  \n",
      " stage3_unit6_conv2 (Conv2D)    (None, None, None,   589824      ['zero_padding2d_129[0][0]']     \n",
      "                                256)                                                              \n",
      "                                                                                                  \n",
      " add_60 (Add)                   (None, None, None,   0           ['stage3_unit6_conv2[0][0]',     \n",
      "                                256)                              'add_59[0][0]']                 \n",
      "                                                                                                  \n",
      " stage4_unit1_bn1 (BatchNormali  (None, None, None,   1024       ['add_60[0][0]']                 \n",
      " zation)                        256)                                                              \n",
      "                                                                                                  \n",
      " stage4_unit1_relu1 (Activation  (None, None, None,   0          ['stage4_unit1_bn1[0][0]']       \n",
      " )                              256)                                                              \n",
      "                                                                                                  \n",
      " zero_padding2d_130 (ZeroPaddin  (None, None, None,   0          ['stage4_unit1_relu1[0][0]']     \n",
      " g2D)                           256)                                                              \n",
      "                                                                                                  \n",
      " stage4_unit1_conv1 (Conv2D)    (None, None, None,   1179648     ['zero_padding2d_130[0][0]']     \n",
      "                                512)                                                              \n",
      "                                                                                                  \n",
      " stage4_unit1_bn2 (BatchNormali  (None, None, None,   2048       ['stage4_unit1_conv1[0][0]']     \n",
      " zation)                        512)                                                              \n",
      "                                                                                                  \n",
      " stage4_unit1_relu2 (Activation  (None, None, None,   0          ['stage4_unit1_bn2[0][0]']       \n",
      " )                              512)                                                              \n",
      "                                                                                                  \n",
      " zero_padding2d_131 (ZeroPaddin  (None, None, None,   0          ['stage4_unit1_relu2[0][0]']     \n",
      " g2D)                           512)                                                              \n",
      "                                                                                                  \n",
      " stage4_unit1_conv2 (Conv2D)    (None, None, None,   2359296     ['zero_padding2d_131[0][0]']     \n",
      "                                512)                                                              \n",
      "                                                                                                  \n",
      " stage4_unit1_sc (Conv2D)       (None, None, None,   131072      ['stage4_unit1_relu1[0][0]']     \n",
      "                                512)                                                              \n",
      "                                                                                                  \n",
      " add_61 (Add)                   (None, None, None,   0           ['stage4_unit1_conv2[0][0]',     \n"
     ]
    },
    {
     "name": "stdout",
     "output_type": "stream",
     "text": [
      "                                512)                              'stage4_unit1_sc[0][0]']        \n",
      "                                                                                                  \n",
      " stage4_unit2_bn1 (BatchNormali  (None, None, None,   2048       ['add_61[0][0]']                 \n",
      " zation)                        512)                                                              \n",
      "                                                                                                  \n",
      " stage4_unit2_relu1 (Activation  (None, None, None,   0          ['stage4_unit2_bn1[0][0]']       \n",
      " )                              512)                                                              \n",
      "                                                                                                  \n",
      " zero_padding2d_132 (ZeroPaddin  (None, None, None,   0          ['stage4_unit2_relu1[0][0]']     \n",
      " g2D)                           512)                                                              \n",
      "                                                                                                  \n",
      " stage4_unit2_conv1 (Conv2D)    (None, None, None,   2359296     ['zero_padding2d_132[0][0]']     \n",
      "                                512)                                                              \n",
      "                                                                                                  \n",
      " stage4_unit2_bn2 (BatchNormali  (None, None, None,   2048       ['stage4_unit2_conv1[0][0]']     \n",
      " zation)                        512)                                                              \n",
      "                                                                                                  \n",
      " stage4_unit2_relu2 (Activation  (None, None, None,   0          ['stage4_unit2_bn2[0][0]']       \n",
      " )                              512)                                                              \n",
      "                                                                                                  \n",
      " zero_padding2d_133 (ZeroPaddin  (None, None, None,   0          ['stage4_unit2_relu2[0][0]']     \n",
      " g2D)                           512)                                                              \n",
      "                                                                                                  \n",
      " stage4_unit2_conv2 (Conv2D)    (None, None, None,   2359296     ['zero_padding2d_133[0][0]']     \n",
      "                                512)                                                              \n",
      "                                                                                                  \n",
      " add_62 (Add)                   (None, None, None,   0           ['stage4_unit2_conv2[0][0]',     \n",
      "                                512)                              'add_61[0][0]']                 \n",
      "                                                                                                  \n",
      " stage4_unit3_bn1 (BatchNormali  (None, None, None,   2048       ['add_62[0][0]']                 \n",
      " zation)                        512)                                                              \n",
      "                                                                                                  \n",
      " stage4_unit3_relu1 (Activation  (None, None, None,   0          ['stage4_unit3_bn1[0][0]']       \n",
      " )                              512)                                                              \n",
      "                                                                                                  \n",
      " zero_padding2d_134 (ZeroPaddin  (None, None, None,   0          ['stage4_unit3_relu1[0][0]']     \n",
      " g2D)                           512)                                                              \n",
      "                                                                                                  \n",
      " stage4_unit3_conv1 (Conv2D)    (None, None, None,   2359296     ['zero_padding2d_134[0][0]']     \n",
      "                                512)                                                              \n",
      "                                                                                                  \n",
      " stage4_unit3_bn2 (BatchNormali  (None, None, None,   2048       ['stage4_unit3_conv1[0][0]']     \n",
      " zation)                        512)                                                              \n",
      "                                                                                                  \n",
      " stage4_unit3_relu2 (Activation  (None, None, None,   0          ['stage4_unit3_bn2[0][0]']       \n",
      " )                              512)                                                              \n",
      "                                                                                                  \n",
      " zero_padding2d_135 (ZeroPaddin  (None, None, None,   0          ['stage4_unit3_relu2[0][0]']     \n",
      " g2D)                           512)                                                              \n",
      "                                                                                                  \n",
      " stage4_unit3_conv2 (Conv2D)    (None, None, None,   2359296     ['zero_padding2d_135[0][0]']     \n",
      "                                512)                                                              \n",
      "                                                                                                  \n",
      " add_63 (Add)                   (None, None, None,   0           ['stage4_unit3_conv2[0][0]',     \n",
      "                                512)                              'add_62[0][0]']                 \n",
      "                                                                                                  \n",
      " bn1 (BatchNormalization)       (None, None, None,   2048        ['add_63[0][0]']                 \n",
      "                                512)                                                              \n",
      "                                                                                                  \n",
      " relu1 (Activation)             (None, None, None,   0           ['bn1[0][0]']                    \n",
      "                                512)                                                              \n",
      "                                                                                                  \n",
      " decoder_stage0_upsampling (UpS  (None, None, None,   0          ['relu1[0][0]']                  \n",
      " ampling2D)                     512)                                                              \n",
      "                                                                                                  \n",
      " decoder_stage0_concat (Concate  (None, None, None,   0          ['decoder_stage0_upsampling[0][0]\n",
      " nate)                          768)                             ',                               \n",
      "                                                                  'stage4_unit1_relu1[0][0]']     \n",
      "                                                                                                  \n",
      " decoder_stage0a_conv (Conv2D)  (None, None, None,   1769472     ['decoder_stage0_concat[0][0]']  \n",
      "                                256)                                                              \n",
      "                                                                                                  \n",
      " decoder_stage0a_bn (BatchNorma  (None, None, None,   1024       ['decoder_stage0a_conv[0][0]']   \n",
      " lization)                      256)                                                              \n",
      "                                                                                                  \n",
      " decoder_stage0a_relu (Activati  (None, None, None,   0          ['decoder_stage0a_bn[0][0]']     \n",
      " on)                            256)                                                              \n",
      "                                                                                                  \n",
      " decoder_stage0b_conv (Conv2D)  (None, None, None,   589824      ['decoder_stage0a_relu[0][0]']   \n",
      "                                256)                                                              \n",
      "                                                                                                  \n",
      " decoder_stage0b_bn (BatchNorma  (None, None, None,   1024       ['decoder_stage0b_conv[0][0]']   \n",
      " lization)                      256)                                                              \n"
     ]
    },
    {
     "name": "stdout",
     "output_type": "stream",
     "text": [
      "                                                                                                  \n",
      " decoder_stage0b_relu (Activati  (None, None, None,   0          ['decoder_stage0b_bn[0][0]']     \n",
      " on)                            256)                                                              \n",
      "                                                                                                  \n",
      " decoder_stage1_upsampling (UpS  (None, None, None,   0          ['decoder_stage0b_relu[0][0]']   \n",
      " ampling2D)                     256)                                                              \n",
      "                                                                                                  \n",
      " decoder_stage1_concat (Concate  (None, None, None,   0          ['decoder_stage1_upsampling[0][0]\n",
      " nate)                          384)                             ',                               \n",
      "                                                                  'stage3_unit1_relu1[0][0]']     \n",
      "                                                                                                  \n",
      " decoder_stage1a_conv (Conv2D)  (None, None, None,   442368      ['decoder_stage1_concat[0][0]']  \n",
      "                                128)                                                              \n",
      "                                                                                                  \n",
      " decoder_stage1a_bn (BatchNorma  (None, None, None,   512        ['decoder_stage1a_conv[0][0]']   \n",
      " lization)                      128)                                                              \n",
      "                                                                                                  \n",
      " decoder_stage1a_relu (Activati  (None, None, None,   0          ['decoder_stage1a_bn[0][0]']     \n",
      " on)                            128)                                                              \n",
      "                                                                                                  \n",
      " decoder_stage1b_conv (Conv2D)  (None, None, None,   147456      ['decoder_stage1a_relu[0][0]']   \n",
      "                                128)                                                              \n",
      "                                                                                                  \n",
      " decoder_stage1b_bn (BatchNorma  (None, None, None,   512        ['decoder_stage1b_conv[0][0]']   \n",
      " lization)                      128)                                                              \n",
      "                                                                                                  \n",
      " decoder_stage1b_relu (Activati  (None, None, None,   0          ['decoder_stage1b_bn[0][0]']     \n",
      " on)                            128)                                                              \n",
      "                                                                                                  \n",
      " decoder_stage2_upsampling (UpS  (None, None, None,   0          ['decoder_stage1b_relu[0][0]']   \n",
      " ampling2D)                     128)                                                              \n",
      "                                                                                                  \n",
      " decoder_stage2_concat (Concate  (None, None, None,   0          ['decoder_stage2_upsampling[0][0]\n",
      " nate)                          192)                             ',                               \n",
      "                                                                  'stage2_unit1_relu1[0][0]']     \n",
      "                                                                                                  \n",
      " decoder_stage2a_conv (Conv2D)  (None, None, None,   110592      ['decoder_stage2_concat[0][0]']  \n",
      "                                64)                                                               \n",
      "                                                                                                  \n",
      " decoder_stage2a_bn (BatchNorma  (None, None, None,   256        ['decoder_stage2a_conv[0][0]']   \n",
      " lization)                      64)                                                               \n",
      "                                                                                                  \n",
      " decoder_stage2a_relu (Activati  (None, None, None,   0          ['decoder_stage2a_bn[0][0]']     \n",
      " on)                            64)                                                               \n",
      "                                                                                                  \n",
      " decoder_stage2b_conv (Conv2D)  (None, None, None,   36864       ['decoder_stage2a_relu[0][0]']   \n",
      "                                64)                                                               \n",
      "                                                                                                  \n",
      " decoder_stage2b_bn (BatchNorma  (None, None, None,   256        ['decoder_stage2b_conv[0][0]']   \n",
      " lization)                      64)                                                               \n",
      "                                                                                                  \n",
      " decoder_stage2b_relu (Activati  (None, None, None,   0          ['decoder_stage2b_bn[0][0]']     \n",
      " on)                            64)                                                               \n",
      "                                                                                                  \n",
      " decoder_stage3_upsampling (UpS  (None, None, None,   0          ['decoder_stage2b_relu[0][0]']   \n",
      " ampling2D)                     64)                                                               \n",
      "                                                                                                  \n",
      " decoder_stage3_concat (Concate  (None, None, None,   0          ['decoder_stage3_upsampling[0][0]\n",
      " nate)                          128)                             ',                               \n",
      "                                                                  'relu0[0][0]']                  \n",
      "                                                                                                  \n",
      " decoder_stage3a_conv (Conv2D)  (None, None, None,   36864       ['decoder_stage3_concat[0][0]']  \n",
      "                                32)                                                               \n",
      "                                                                                                  \n",
      " decoder_stage3a_bn (BatchNorma  (None, None, None,   128        ['decoder_stage3a_conv[0][0]']   \n",
      " lization)                      32)                                                               \n",
      "                                                                                                  \n",
      " decoder_stage3a_relu (Activati  (None, None, None,   0          ['decoder_stage3a_bn[0][0]']     \n",
      " on)                            32)                                                               \n",
      "                                                                                                  \n",
      " decoder_stage3b_conv (Conv2D)  (None, None, None,   9216        ['decoder_stage3a_relu[0][0]']   \n",
      "                                32)                                                               \n",
      "                                                                                                  \n",
      " decoder_stage3b_bn (BatchNorma  (None, None, None,   128        ['decoder_stage3b_conv[0][0]']   \n",
      " lization)                      32)                                                               \n",
      "                                                                                                  \n",
      " decoder_stage3b_relu (Activati  (None, None, None,   0          ['decoder_stage3b_bn[0][0]']     \n",
      " on)                            32)                                                               \n",
      "                                                                                                  \n",
      " decoder_stage4_upsampling (UpS  (None, None, None,   0          ['decoder_stage3b_relu[0][0]']   \n",
      " ampling2D)                     32)                                                               \n",
      "                                                                                                  \n",
      " decoder_stage4a_conv (Conv2D)  (None, None, None,   4608        ['decoder_stage4_upsampling[0][0]\n"
     ]
    },
    {
     "name": "stdout",
     "output_type": "stream",
     "text": [
      "                                16)                              ']                               \n",
      "                                                                                                  \n",
      " decoder_stage4a_bn (BatchNorma  (None, None, None,   64         ['decoder_stage4a_conv[0][0]']   \n",
      " lization)                      16)                                                               \n",
      "                                                                                                  \n",
      " decoder_stage4a_relu (Activati  (None, None, None,   0          ['decoder_stage4a_bn[0][0]']     \n",
      " on)                            16)                                                               \n",
      "                                                                                                  \n",
      " decoder_stage4b_conv (Conv2D)  (None, None, None,   2304        ['decoder_stage4a_relu[0][0]']   \n",
      "                                16)                                                               \n",
      "                                                                                                  \n",
      " decoder_stage4b_bn (BatchNorma  (None, None, None,   64         ['decoder_stage4b_conv[0][0]']   \n",
      " lization)                      16)                                                               \n",
      "                                                                                                  \n",
      " decoder_stage4b_relu (Activati  (None, None, None,   0          ['decoder_stage4b_bn[0][0]']     \n",
      " on)                            16)                                                               \n",
      "                                                                                                  \n",
      " final_conv (Conv2D)            (None, None, None,   1160        ['decoder_stage4b_relu[0][0]']   \n",
      "                                8)                                                                \n",
      "                                                                                                  \n",
      " sigmoid (Activation)           (None, None, None,   0           ['final_conv[0][0]']             \n",
      "                                8)                                                                \n",
      "                                                                                                  \n",
      "==================================================================================================\n",
      "Total params: 24,457,169\n",
      "Trainable params: 24,439,819\n",
      "Non-trainable params: 17,350\n",
      "__________________________________________________________________________________________________\n"
     ]
    }
   ],
   "source": [
    "model.summary()"
   ]
  },
  {
   "cell_type": "code",
   "execution_count": 52,
   "metadata": {
    "colab": {
     "base_uri": "https://localhost:8080/"
    },
    "executionInfo": {
     "elapsed": 207422,
     "status": "ok",
     "timestamp": 1654273176302,
     "user": {
      "displayName": "Eloi",
      "userId": "03153732686645930687"
     },
     "user_tz": -120
    },
    "id": "IzZcSp6PObBJ",
    "outputId": "6014990e-ed58-46bf-a42e-eaf052626d8f"
   },
   "outputs": [
    {
     "name": "stdout",
     "output_type": "stream",
     "text": [
      "Epoch 1/20\n",
      "50/50 [==============================] - 463s 9s/step - loss: 0.6972 - dice_metric: 0.4531 - val_loss: 0.8278 - val_dice_metric: 0.2893\n",
      "Epoch 2/20\n",
      "50/50 [==============================] - 443s 9s/step - loss: 0.3384 - dice_metric: 0.7945 - val_loss: 0.8481 - val_dice_metric: 0.2628\n",
      "Epoch 3/20\n",
      "50/50 [==============================] - 443s 9s/step - loss: 0.2378 - dice_metric: 0.8649 - val_loss: 0.7148 - val_dice_metric: 0.4401\n",
      "Epoch 4/20\n",
      "50/50 [==============================] - 443s 9s/step - loss: 0.2150 - dice_metric: 0.8793 - val_loss: 0.4497 - val_dice_metric: 0.7050\n",
      "Epoch 5/20\n",
      "50/50 [==============================] - 443s 9s/step - loss: 0.1964 - dice_metric: 0.8909 - val_loss: 0.2999 - val_dice_metric: 0.8194\n",
      "Epoch 6/20\n",
      "50/50 [==============================] - 443s 9s/step - loss: 0.1853 - dice_metric: 0.8977 - val_loss: 0.2800 - val_dice_metric: 0.8323\n",
      "Epoch 7/20\n",
      "50/50 [==============================] - 443s 9s/step - loss: 0.1810 - dice_metric: 0.9003 - val_loss: 0.2909 - val_dice_metric: 0.8273\n",
      "Epoch 8/20\n",
      "50/50 [==============================] - 443s 9s/step - loss: 0.1727 - dice_metric: 0.9053 - val_loss: 0.2834 - val_dice_metric: 0.8303\n",
      "Epoch 9/20\n",
      "50/50 [==============================] - 443s 9s/step - loss: 0.1678 - dice_metric: 0.9083 - val_loss: 0.3148 - val_dice_metric: 0.8088\n",
      "Epoch 10/20\n",
      "50/50 [==============================] - 451s 9s/step - loss: 0.1742 - dice_metric: 0.9044 - val_loss: 0.3046 - val_dice_metric: 0.8156\n",
      "Epoch 11/20\n",
      "50/50 [==============================] - 445s 9s/step - loss: 0.1710 - dice_metric: 0.9063 - val_loss: 0.3018 - val_dice_metric: 0.8160\n",
      "Epoch 12/20\n",
      "50/50 [==============================] - 444s 9s/step - loss: 0.1644 - dice_metric: 0.9102 - val_loss: 0.2637 - val_dice_metric: 0.8442\n",
      "Epoch 13/20\n",
      "50/50 [==============================] - 444s 9s/step - loss: 0.1588 - dice_metric: 0.9136 - val_loss: 0.2769 - val_dice_metric: 0.8366\n",
      "Epoch 14/20\n",
      "50/50 [==============================] - 444s 9s/step - loss: 0.1596 - dice_metric: 0.9132 - val_loss: 0.2483 - val_dice_metric: 0.8547\n",
      "Epoch 15/20\n",
      "50/50 [==============================] - 445s 9s/step - loss: 0.1551 - dice_metric: 0.9159 - val_loss: 0.2491 - val_dice_metric: 0.8528\n",
      "Epoch 16/20\n",
      "50/50 [==============================] - 444s 9s/step - loss: 0.1519 - dice_metric: 0.9177 - val_loss: 0.2543 - val_dice_metric: 0.8484\n",
      "Epoch 17/20\n",
      "50/50 [==============================] - 446s 9s/step - loss: 0.1465 - dice_metric: 0.9208 - val_loss: 0.2433 - val_dice_metric: 0.8566\n",
      "Epoch 18/20\n",
      "50/50 [==============================] - 431s 9s/step - loss: 0.1443 - dice_metric: 0.9221 - val_loss: 0.2397 - val_dice_metric: 0.8590\n",
      "Epoch 19/20\n",
      "50/50 [==============================] - 426s 9s/step - loss: 0.1412 - dice_metric: 0.9239 - val_loss: 0.2306 - val_dice_metric: 0.8649\n",
      "Epoch 20/20\n",
      "50/50 [==============================] - 431s 9s/step - loss: 0.1383 - dice_metric: 0.9256 - val_loss: 0.2389 - val_dice_metric: 0.8587\n"
     ]
    },
    {
     "data": {
      "text/plain": [
       "8857.301687955856"
      ]
     },
     "execution_count": 52,
     "metadata": {},
     "output_type": "execute_result"
    }
   ],
   "source": [
    "# fit model\n",
    "start = time.time()\n",
    "history = model.fit(\n",
    "    x=x_train,\n",
    "    y=y_train,\n",
    "    batch_size=16,\n",
    "    epochs=nb_epochs,\n",
    "    validation_data=(x_val, y_val)\n",
    "    )\n",
    "end = time.time()\n",
    "training_time = end - start\n",
    "training_time"
   ]
  },
  {
   "cell_type": "code",
   "execution_count": 53,
   "metadata": {
    "colab": {
     "base_uri": "https://localhost:8080/",
     "height": 312
    },
    "executionInfo": {
     "elapsed": 12,
     "status": "ok",
     "timestamp": 1654273769007,
     "user": {
      "displayName": "Eloi",
      "userId": "03153732686645930687"
     },
     "user_tz": -120
    },
    "id": "cSdJfWpWObD9",
    "outputId": "f8ee001a-676b-46a6-cc01-105f6286721f"
   },
   "outputs": [
    {
     "name": "stdout",
     "output_type": "stream",
     "text": [
      "0.9255674481391907\n"
     ]
    },
    {
     "data": {
      "image/png": "[encoded data removed]",
      "text/plain": [
       "<Figure size 432x288 with 1 Axes>"
      ]
     },
     "metadata": {
      "needs_background": "light"
     },
     "output_type": "display_data"
    },
    {
     "data": {
      "text/plain": [
       "0.9255674481391907"
      ]
     },
     "execution_count": 53,
     "metadata": {},
     "output_type": "execute_result"
    }
   ],
   "source": [
    "afficher_resultats(history,'jaccard_loss')# jaccard loss"
   ]
  },
  {
   "cell_type": "code",
   "execution_count": 54,
   "metadata": {
    "executionInfo": {
     "elapsed": 2352,
     "status": "ok",
     "timestamp": 1654268735245,
     "user": {
      "displayName": "Eloi",
      "userId": "03153732686645930687"
     },
     "user_tz": -120
    },
    "id": "_1tzFraL7PVR"
   },
   "outputs": [
    {
     "name": "stdout",
     "output_type": "stream",
     "text": [
      "Evaluate on test data\n",
      "1/1 [==============================] - 10s 10s/step - loss: 0.9704 - dice_metric: 0.0575\n",
      "test loss, test acc: [0.9703837633132935, 0.05752857029438019]\n"
     ]
    },
    {
     "data": {
      "image/png": "[encoded data removed]",
      "text/plain": [
       "<Figure size 432x288 with 1 Axes>"
      ]
     },
     "metadata": {
      "needs_background": "light"
     },
     "output_type": "display_data"
    }
   ],
   "source": [
    "predd = model.predict(X_dataTEST[:1])\n",
    "#imshow(predd[0][:,:,0])#void\n",
    "display_imarge(predd[0])\n",
    "print(\"Evaluate on test data\")\n",
    "results = model.evaluate(X_dataTEST, mask_8classTEST, batch_size=128)\n",
    "print(\"test loss, test acc:\", results)"
   ]
  },
  {
   "cell_type": "code",
   "execution_count": 55,
   "metadata": {},
   "outputs": [],
   "source": [
    "liste_resultats['Unet_jaccard'] = {\"metric\":results[-1],\"time\":training_time}\n",
    "#17508"
   ]
  },
  {
   "cell_type": "code",
   "execution_count": 56,
   "metadata": {
    "colab": {
     "base_uri": "https://localhost:8080/"
    },
    "executionInfo": {
     "elapsed": 19335,
     "status": "ok",
     "timestamp": 1654273769006,
     "user": {
      "displayName": "Eloi",
      "userId": "03153732686645930687"
     },
     "user_tz": -120
    },
    "id": "5JvaddB3-aL7",
    "outputId": "41dfde98-f98f-4bac-d9ae-7c032b19e2c8"
   },
   "outputs": [],
   "source": [
    "#model.save(My_path+'models_full_DATA/'+'Unet_jaccard')"
   ]
  },
  {
   "cell_type": "markdown",
   "metadata": {
    "id": "o18pNJd9tgAJ"
   },
   "source": [
    "### Unet (vgg16)\n"
   ]
  },
  {
   "cell_type": "code",
   "execution_count": 57,
   "metadata": {
    "executionInfo": {
     "elapsed": 2637,
     "status": "ok",
     "timestamp": 1654272965503,
     "user": {
      "displayName": "Eloi",
      "userId": "03153732686645930687"
     },
     "user_tz": -120
    },
    "id": "_sZJ4Hy2Oa71"
   },
   "outputs": [],
   "source": [
    "model = Unet('vgg16', encoder_weights='imagenet', classes=8)\n",
    "model.compile('Adam', loss=jaccard_loss, metrics=[dice_metric])"
   ]
  },
  {
   "cell_type": "code",
   "execution_count": 58,
   "metadata": {
    "colab": {
     "base_uri": "https://localhost:8080/"
    },
    "executionInfo": {
     "elapsed": 207422,
     "status": "ok",
     "timestamp": 1654273176302,
     "user": {
      "displayName": "Eloi",
      "userId": "03153732686645930687"
     },
     "user_tz": -120
    },
    "id": "IzZcSp6PObBJ",
    "outputId": "6014990e-ed58-46bf-a42e-eaf052626d8f"
   },
   "outputs": [
    {
     "name": "stdout",
     "output_type": "stream",
     "text": [
      "Epoch 1/20\n",
      "50/50 [==============================] - 820s 16s/step - loss: 0.6898 - dice_metric: 0.4661 - val_loss: 0.8713 - val_dice_metric: 0.2288\n",
      "Epoch 2/20\n",
      "50/50 [==============================] - 811s 16s/step - loss: 0.4737 - dice_metric: 0.6882 - val_loss: 0.6962 - val_dice_metric: 0.4626\n",
      "Epoch 3/20\n",
      "50/50 [==============================] - 818s 16s/step - loss: 0.3625 - dice_metric: 0.7783 - val_loss: 0.6951 - val_dice_metric: 0.4639\n",
      "Epoch 4/20\n",
      "50/50 [==============================] - 807s 16s/step - loss: 0.3322 - dice_metric: 0.8006 - val_loss: 0.6700 - val_dice_metric: 0.4947\n",
      "Epoch 5/20\n",
      "50/50 [==============================] - 806s 16s/step - loss: 0.3119 - dice_metric: 0.8150 - val_loss: 0.6327 - val_dice_metric: 0.5342\n",
      "Epoch 6/20\n",
      "50/50 [==============================] - 813s 16s/step - loss: 0.2977 - dice_metric: 0.8249 - val_loss: 0.6354 - val_dice_metric: 0.5324\n",
      "Epoch 7/20\n",
      "50/50 [==============================] - 809s 16s/step - loss: 0.2817 - dice_metric: 0.8357 - val_loss: 0.6573 - val_dice_metric: 0.5067\n",
      "Epoch 8/20\n",
      "50/50 [==============================] - 809s 16s/step - loss: 0.2757 - dice_metric: 0.8399 - val_loss: 0.6844 - val_dice_metric: 0.4756\n",
      "Epoch 9/20\n",
      "50/50 [==============================] - 810s 16s/step - loss: 0.2651 - dice_metric: 0.8470 - val_loss: 0.6212 - val_dice_metric: 0.5455\n",
      "Epoch 10/20\n",
      "50/50 [==============================] - 818s 16s/step - loss: 0.2573 - dice_metric: 0.8522 - val_loss: 0.6061 - val_dice_metric: 0.5615\n",
      "Epoch 11/20\n",
      "50/50 [==============================] - 820s 16s/step - loss: 0.2500 - dice_metric: 0.8569 - val_loss: 0.6096 - val_dice_metric: 0.5583\n",
      "Epoch 12/20\n",
      "50/50 [==============================] - 826s 17s/step - loss: 0.2442 - dice_metric: 0.8608 - val_loss: 0.6138 - val_dice_metric: 0.5551\n",
      "Epoch 13/20\n",
      "50/50 [==============================] - 820s 16s/step - loss: 0.2380 - dice_metric: 0.8647 - val_loss: 0.6093 - val_dice_metric: 0.5593\n",
      "Epoch 14/20\n",
      "50/50 [==============================] - 832s 17s/step - loss: 0.2388 - dice_metric: 0.8643 - val_loss: 0.6028 - val_dice_metric: 0.5648\n",
      "Epoch 15/20\n",
      "50/50 [==============================] - 820s 16s/step - loss: 0.2318 - dice_metric: 0.8687 - val_loss: 0.5601 - val_dice_metric: 0.6067\n",
      "Epoch 16/20\n",
      "50/50 [==============================] - 817s 16s/step - loss: 0.2263 - dice_metric: 0.8722 - val_loss: 0.5666 - val_dice_metric: 0.6014\n",
      "Epoch 17/20\n",
      "50/50 [==============================] - 819s 16s/step - loss: 0.2250 - dice_metric: 0.8731 - val_loss: 0.5742 - val_dice_metric: 0.5933\n",
      "Epoch 18/20\n",
      "50/50 [==============================] - 830s 17s/step - loss: 0.2252 - dice_metric: 0.8729 - val_loss: 0.5756 - val_dice_metric: 0.5915\n",
      "Epoch 19/20\n",
      "50/50 [==============================] - 842s 17s/step - loss: 0.2225 - dice_metric: 0.8747 - val_loss: 0.5460 - val_dice_metric: 0.6194\n",
      "Epoch 20/20\n",
      "50/50 [==============================] - 889s 18s/step - loss: 0.2159 - dice_metric: 0.8788 - val_loss: 0.5499 - val_dice_metric: 0.6159\n"
     ]
    },
    {
     "data": {
      "text/plain": [
       "16445.96554660797"
      ]
     },
     "execution_count": 58,
     "metadata": {},
     "output_type": "execute_result"
    }
   ],
   "source": [
    "# fit model\n",
    "start = time.time()\n",
    "history = model.fit(\n",
    "    x=x_train_vgg16,\n",
    "    y=y_train,\n",
    "    batch_size=16,\n",
    "    epochs=nb_epochs,\n",
    "    validation_data=(x_val, y_val)\n",
    "    )\n",
    "end = time.time()\n",
    "training_time = end - start\n",
    "training_time"
   ]
  },
  {
   "cell_type": "code",
   "execution_count": 59,
   "metadata": {},
   "outputs": [
    {
     "name": "stdout",
     "output_type": "stream",
     "text": [
      "0.8788152933120728\n"
     ]
    },
    {
     "data": {
      "image/png": "[encoded data removed]",
      "text/plain": [
       "<Figure size 432x288 with 1 Axes>"
      ]
     },
     "metadata": {
      "needs_background": "light"
     },
     "output_type": "display_data"
    },
    {
     "data": {
      "text/plain": [
       "0.8788152933120728"
      ]
     },
     "execution_count": 59,
     "metadata": {},
     "output_type": "execute_result"
    }
   ],
   "source": [
    "afficher_resultats(history,'jaccard_loss')"
   ]
  },
  {
   "cell_type": "code",
   "execution_count": 60,
   "metadata": {},
   "outputs": [
    {
     "name": "stdout",
     "output_type": "stream",
     "text": [
      "WARNING:tensorflow:5 out of the last 5 calls to <function Model.make_predict_function.<locals>.predict_function at 0x00000191901FF160> triggered tf.function retracing. Tracing is expensive and the excessive number of tracings could be due to (1) creating @tf.function repeatedly in a loop, (2) passing tensors with different shapes, (3) passing Python objects instead of tensors. For (1), please define your @tf.function outside of the loop. For (2), @tf.function has experimental_relax_shapes=True option that relaxes argument shapes that can avoid unnecessary retracing. For (3), please refer to https://www.tensorflow.org/guide/function#controlling_retracing and https://www.tensorflow.org/api_docs/python/tf/function for  more details.\n",
      "Evaluate on test data\n",
      "1/1 [==============================] - 28s 28s/step - loss: 0.9941 - dice_metric: 0.0118\n",
      "test loss, test acc: [0.9940568804740906, 0.011815889738500118]\n"
     ]
    },
    {
     "data": {
      "image/png": "[encoded data removed]",
      "text/plain": [
       "<Figure size 432x288 with 1 Axes>"
      ]
     },
     "metadata": {
      "needs_background": "light"
     },
     "output_type": "display_data"
    }
   ],
   "source": [
    "predd = model.predict(X_dataTEST[:1])\n",
    "display_imarge(predd[0])\n",
    "print(\"Evaluate on test data\")\n",
    "results = model.evaluate(X_dataTEST, mask_8classTEST, batch_size=128)\n",
    "print(\"test loss, test acc:\", results)"
   ]
  },
  {
   "cell_type": "code",
   "execution_count": 61,
   "metadata": {},
   "outputs": [],
   "source": [
    "liste_resultats['Unet_vgg16'] = {\"metric\":results[-1],\"time\":training_time}"
   ]
  },
  {
   "cell_type": "code",
   "execution_count": 62,
   "metadata": {},
   "outputs": [],
   "source": [
    "#model.save(My_path+'models_full_DATA/'+'Unet_vgg16')"
   ]
  },
  {
   "cell_type": "markdown",
   "metadata": {
    "id": "iuiS8q8qC7o3"
   },
   "source": [
    "## model retenu/choix fonctions loss\n",
    "L'encoder Resnet à de meilleurs perfs.\\\n",
    "On va utiliser d'autres fonctions de cout que jaccard_loss (deja été utilisé plus haut)"
   ]
  },
  {
   "cell_type": "markdown",
   "metadata": {
    "id": "03i97NnJGw_A"
   },
   "source": [
    "### Unet (dice_loss)\n"
   ]
  },
  {
   "cell_type": "code",
   "execution_count": 63,
   "metadata": {
    "executionInfo": {
     "elapsed": 1983,
     "status": "ok",
     "timestamp": 1654269202944,
     "user": {
      "displayName": "Eloi",
      "userId": "03153732686645930687"
     },
     "user_tz": -120
    },
    "id": "xAOIe5HhH-6X"
   },
   "outputs": [],
   "source": [
    "# define model\n",
    "model = Unet(BACKBONE, encoder_weights='imagenet', classes=8)\n",
    "model.compile('Adam', loss=dice_loss, metrics=[iou_score,dice_metric])"
   ]
  },
  {
   "cell_type": "code",
   "execution_count": 64,
   "metadata": {
    "colab": {
     "base_uri": "https://localhost:8080/"
    },
    "executionInfo": {
     "elapsed": 147067,
     "status": "ok",
     "timestamp": 1654269354379,
     "user": {
      "displayName": "Eloi",
      "userId": "03153732686645930687"
     },
     "user_tz": -120
    },
    "id": "82lilpkOIIpY",
    "outputId": "e32960b1-1c73-4573-debf-96391540b566"
   },
   "outputs": [
    {
     "name": "stdout",
     "output_type": "stream",
     "text": [
      "Epoch 1/20\n",
      "50/50 [==============================] - 536s 10s/step - loss: 0.5469 - iou_score: 0.2288 - dice_metric: 0.4531 - val_loss: 0.6638 - val_iou_score: 0.1518 - val_dice_metric: 0.3346\n",
      "Epoch 2/20\n",
      "50/50 [==============================] - 502s 10s/step - loss: 0.2047 - iou_score: 0.4684 - dice_metric: 0.7953 - val_loss: 0.6790 - val_iou_score: 0.1146 - val_dice_metric: 0.3140\n",
      "Epoch 3/20\n",
      "50/50 [==============================] - 494s 10s/step - loss: 0.1401 - iou_score: 0.5476 - dice_metric: 0.8599 - val_loss: 0.5050 - val_iou_score: 0.2438 - val_dice_metric: 0.4940\n",
      "Epoch 4/20\n",
      "50/50 [==============================] - 507s 10s/step - loss: 0.1264 - iou_score: 0.5697 - dice_metric: 0.8736 - val_loss: 0.5286 - val_iou_score: 0.2593 - val_dice_metric: 0.4720\n",
      "Epoch 5/20\n",
      "50/50 [==============================] - 496s 10s/step - loss: 0.1165 - iou_score: 0.5822 - dice_metric: 0.8835 - val_loss: 0.2023 - val_iou_score: 0.4551 - val_dice_metric: 0.7931\n",
      "Epoch 6/20\n",
      "50/50 [==============================] - 512s 10s/step - loss: 0.1053 - iou_score: 0.5989 - dice_metric: 0.8947 - val_loss: 0.1645 - val_iou_score: 0.5055 - val_dice_metric: 0.8290\n",
      "Epoch 7/20\n",
      "50/50 [==============================] - 488s 10s/step - loss: 0.1001 - iou_score: 0.6083 - dice_metric: 0.8999 - val_loss: 0.1556 - val_iou_score: 0.5186 - val_dice_metric: 0.8394\n",
      "Epoch 8/20\n",
      "50/50 [==============================] - 474s 9s/step - loss: 0.0970 - iou_score: 0.6117 - dice_metric: 0.9030 - val_loss: 0.1458 - val_iou_score: 0.5298 - val_dice_metric: 0.8496\n",
      "Epoch 9/20\n",
      "50/50 [==============================] - 491s 10s/step - loss: 0.0928 - iou_score: 0.6185 - dice_metric: 0.9072 - val_loss: 0.1670 - val_iou_score: 0.5054 - val_dice_metric: 0.8284\n",
      "Epoch 10/20\n",
      "50/50 [==============================] - 485s 10s/step - loss: 0.0944 - iou_score: 0.6167 - dice_metric: 0.9056 - val_loss: 0.1757 - val_iou_score: 0.4919 - val_dice_metric: 0.8186\n",
      "Epoch 11/20\n",
      "50/50 [==============================] - 463s 9s/step - loss: 0.0970 - iou_score: 0.6132 - dice_metric: 0.9030 - val_loss: 0.1599 - val_iou_score: 0.5141 - val_dice_metric: 0.8367\n",
      "Epoch 12/20\n",
      "50/50 [==============================] - 460s 9s/step - loss: 0.0938 - iou_score: 0.6165 - dice_metric: 0.9062 - val_loss: 0.1696 - val_iou_score: 0.4952 - val_dice_metric: 0.8268\n",
      "Epoch 13/20\n",
      "50/50 [==============================] - 462s 9s/step - loss: 0.0937 - iou_score: 0.6164 - dice_metric: 0.9063 - val_loss: 0.1521 - val_iou_score: 0.5246 - val_dice_metric: 0.8436\n",
      "Epoch 14/20\n",
      "50/50 [==============================] - 462s 9s/step - loss: 0.0860 - iou_score: 0.6279 - dice_metric: 0.9140 - val_loss: 0.1446 - val_iou_score: 0.5293 - val_dice_metric: 0.8514\n",
      "Epoch 15/20\n",
      "50/50 [==============================] - 457s 9s/step - loss: 0.0823 - iou_score: 0.6332 - dice_metric: 0.9177 - val_loss: 0.1374 - val_iou_score: 0.5503 - val_dice_metric: 0.8588\n",
      "Epoch 16/20\n",
      "50/50 [==============================] - 458s 9s/step - loss: 0.0812 - iou_score: 0.6350 - dice_metric: 0.9188 - val_loss: 0.1368 - val_iou_score: 0.5499 - val_dice_metric: 0.8593\n",
      "Epoch 17/20\n",
      "50/50 [==============================] - 460s 9s/step - loss: 0.0806 - iou_score: 0.6354 - dice_metric: 0.9194 - val_loss: 0.1325 - val_iou_score: 0.5550 - val_dice_metric: 0.8628\n",
      "Epoch 18/20\n",
      "50/50 [==============================] - 464s 9s/step - loss: 0.0780 - iou_score: 0.6388 - dice_metric: 0.9220 - val_loss: 0.1339 - val_iou_score: 0.5518 - val_dice_metric: 0.8619\n",
      "Epoch 19/20\n",
      "50/50 [==============================] - 466s 9s/step - loss: 0.0769 - iou_score: 0.6412 - dice_metric: 0.9231 - val_loss: 0.1556 - val_iou_score: 0.5262 - val_dice_metric: 0.8400\n",
      "Epoch 20/20\n",
      "50/50 [==============================] - 458s 9s/step - loss: 0.0791 - iou_score: 0.6380 - dice_metric: 0.9209 - val_loss: 0.1451 - val_iou_score: 0.5418 - val_dice_metric: 0.8515\n"
     ]
    },
    {
     "data": {
      "text/plain": [
       "9602.320577144623"
      ]
     },
     "execution_count": 64,
     "metadata": {},
     "output_type": "execute_result"
    }
   ],
   "source": [
    "# fit model\n",
    "start = time.time()\n",
    "history = model.fit(\n",
    "    x=x_train,\n",
    "    y=y_train,\n",
    "    batch_size=16,\n",
    "    epochs=nb_epochs,\n",
    "    validation_data=(x_val, y_val)\n",
    "    )\n",
    "end = time.time()\n",
    "training_time = end - start\n",
    "training_time"
   ]
  },
  {
   "cell_type": "code",
   "execution_count": 65,
   "metadata": {
    "colab": {
     "base_uri": "https://localhost:8080/",
     "height": 312
    },
    "executionInfo": {
     "elapsed": 10,
     "status": "ok",
     "timestamp": 1654269372851,
     "user": {
      "displayName": "Eloi",
      "userId": "03153732686645930687"
     },
     "user_tz": -120
    },
    "id": "INm0UVNUItAk",
    "outputId": "99a5dccc-5bd2-4338-d6d5-9252adbd0e91"
   },
   "outputs": [
    {
     "name": "stdout",
     "output_type": "stream",
     "text": [
      "0.9209253191947937\n"
     ]
    },
    {
     "data": {
      "image/png": "[encoded data removed]",
      "text/plain": [
       "<Figure size 432x288 with 1 Axes>"
      ]
     },
     "metadata": {
      "needs_background": "light"
     },
     "output_type": "display_data"
    },
    {
     "data": {
      "text/plain": [
       "0.9209253191947937"
      ]
     },
     "execution_count": 65,
     "metadata": {},
     "output_type": "execute_result"
    }
   ],
   "source": [
    "afficher_resultats(history,'dice_loss')# dice loss"
   ]
  },
  {
   "cell_type": "code",
   "execution_count": 66,
   "metadata": {},
   "outputs": [
    {
     "name": "stdout",
     "output_type": "stream",
     "text": [
      "WARNING:tensorflow:6 out of the last 6 calls to <function Model.make_predict_function.<locals>.predict_function at 0x0000019190D18D30> triggered tf.function retracing. Tracing is expensive and the excessive number of tracings could be due to (1) creating @tf.function repeatedly in a loop, (2) passing tensors with different shapes, (3) passing Python objects instead of tensors. For (1), please define your @tf.function outside of the loop. For (2), @tf.function has experimental_relax_shapes=True option that relaxes argument shapes that can avoid unnecessary retracing. For (3), please refer to https://www.tensorflow.org/guide/function#controlling_retracing and https://www.tensorflow.org/api_docs/python/tf/function for  more details.\n",
      "Evaluate on test data\n",
      "1/1 [==============================] - 11s 11s/step - loss: 0.9332 - iou_score: 0.0080 - dice_metric: 0.0668\n",
      "test loss, test acc: [0.933173656463623, 0.008028579875826836, 0.06682633608579636]\n"
     ]
    },
    {
     "data": {
      "image/png": "[encoded data removed]",
      "text/plain": [
       "<Figure size 432x288 with 1 Axes>"
      ]
     },
     "metadata": {
      "needs_background": "light"
     },
     "output_type": "display_data"
    }
   ],
   "source": [
    "predd = model.predict(X_dataTEST[:1])\n",
    "#imshow(predd[0][:,:,0])\n",
    "display_imarge(predd[0])\n",
    "print(\"Evaluate on test data\")\n",
    "results = model.evaluate(X_dataTEST, mask_8classTEST, batch_size=128)\n",
    "print(\"test loss, test acc:\", results)"
   ]
  },
  {
   "cell_type": "code",
   "execution_count": 67,
   "metadata": {},
   "outputs": [],
   "source": [
    "liste_resultats['Unet_dice_loss'] = {\"metric\":results[-1],\"time\":training_time}\n",
    "#18288"
   ]
  },
  {
   "cell_type": "code",
   "execution_count": 68,
   "metadata": {
    "colab": {
     "base_uri": "https://localhost:8080/"
    },
    "executionInfo": {
     "elapsed": 18476,
     "status": "ok",
     "timestamp": 1654269372851,
     "user": {
      "displayName": "Eloi",
      "userId": "03153732686645930687"
     },
     "user_tz": -120
    },
    "id": "ZeuzPD2LIpb1",
    "outputId": "22a1d989-0881-4819-9a7d-21bbb9b01f28"
   },
   "outputs": [],
   "source": [
    "#model.save(My_path+'models_full_DATA/'+'Unet_dice_loss')"
   ]
  },
  {
   "cell_type": "markdown",
   "metadata": {
    "id": "bFCa_mXnKH2P"
   },
   "source": [
    "### Unet (total loss)\n"
   ]
  },
  {
   "cell_type": "code",
   "execution_count": 69,
   "metadata": {
    "executionInfo": {
     "elapsed": 2291,
     "status": "ok",
     "timestamp": 1654269885037,
     "user": {
      "displayName": "Eloi",
      "userId": "03153732686645930687"
     },
     "user_tz": -120
    },
    "id": "qF_kWGWxKwy1"
   },
   "outputs": [],
   "source": [
    "# define model\n",
    "model = Unet(BACKBONE, encoder_weights='imagenet', classes=8)\n",
    "model.compile('Adam', loss=total_loss, metrics=[iou_score,dice_metric])"
   ]
  },
  {
   "cell_type": "code",
   "execution_count": 70,
   "metadata": {
    "colab": {
     "base_uri": "https://localhost:8080/"
    },
    "executionInfo": {
     "elapsed": 147969,
     "status": "ok",
     "timestamp": 1654270034578,
     "user": {
      "displayName": "Eloi",
      "userId": "03153732686645930687"
     },
     "user_tz": -120
    },
    "id": "HhP9Qbj2Kwy3",
    "outputId": "9f3fcf73-c629-437a-c296-aa9ba4570c8b"
   },
   "outputs": [
    {
     "name": "stdout",
     "output_type": "stream",
     "text": [
      "Epoch 1/20\n",
      "50/50 [==============================] - 490s 10s/step - loss: 1.8626 - iou_score: 0.2491 - dice_metric: 0.4837 - val_loss: 2.1867 - val_iou_score: 0.1708 - val_dice_metric: 0.3788\n",
      "Epoch 2/20\n",
      "50/50 [==============================] - 490s 10s/step - loss: 0.7578 - iou_score: 0.4604 - dice_metric: 0.7884 - val_loss: 2.1681 - val_iou_score: 0.2037 - val_dice_metric: 0.4231\n",
      "Epoch 3/20\n",
      "50/50 [==============================] - 482s 10s/step - loss: 0.5621 - iou_score: 0.5358 - dice_metric: 0.8506 - val_loss: 1.6700 - val_iou_score: 0.2428 - val_dice_metric: 0.5453\n",
      "Epoch 4/20\n",
      "50/50 [==============================] - 484s 10s/step - loss: 0.5095 - iou_score: 0.5588 - dice_metric: 0.8670 - val_loss: 0.8687 - val_iou_score: 0.4286 - val_dice_metric: 0.7653\n",
      "Epoch 5/20\n",
      "50/50 [==============================] - 482s 10s/step - loss: 0.4659 - iou_score: 0.5783 - dice_metric: 0.8796 - val_loss: 0.9432 - val_iou_score: 0.4102 - val_dice_metric: 0.7510\n",
      "Epoch 6/20\n",
      "50/50 [==============================] - 481s 10s/step - loss: 0.4382 - iou_score: 0.5903 - dice_metric: 0.8874 - val_loss: 0.7475 - val_iou_score: 0.4726 - val_dice_metric: 0.8067\n",
      "Epoch 7/20\n",
      "50/50 [==============================] - 481s 10s/step - loss: 0.4164 - iou_score: 0.5997 - dice_metric: 0.8933 - val_loss: 0.6386 - val_iou_score: 0.5075 - val_dice_metric: 0.8316\n",
      "Epoch 8/20\n",
      "50/50 [==============================] - 482s 10s/step - loss: 0.3920 - iou_score: 0.6098 - dice_metric: 0.8996 - val_loss: 0.6615 - val_iou_score: 0.5015 - val_dice_metric: 0.8298\n",
      "Epoch 9/20\n",
      "50/50 [==============================] - 480s 10s/step - loss: 0.3789 - iou_score: 0.6149 - dice_metric: 0.9030 - val_loss: 0.5728 - val_iou_score: 0.5369 - val_dice_metric: 0.8482\n",
      "Epoch 10/20\n",
      "50/50 [==============================] - 481s 10s/step - loss: 0.3750 - iou_score: 0.6169 - dice_metric: 0.9040 - val_loss: 0.6681 - val_iou_score: 0.5135 - val_dice_metric: 0.8310\n",
      "Epoch 11/20\n",
      "50/50 [==============================] - 483s 10s/step - loss: 0.3818 - iou_score: 0.6137 - dice_metric: 0.9027 - val_loss: 0.7426 - val_iou_score: 0.4894 - val_dice_metric: 0.8121\n",
      "Epoch 12/20\n",
      "50/50 [==============================] - 480s 10s/step - loss: 0.3607 - iou_score: 0.6224 - dice_metric: 0.9079 - val_loss: 0.5879 - val_iou_score: 0.5367 - val_dice_metric: 0.8477\n",
      "Epoch 13/20\n",
      "50/50 [==============================] - 481s 10s/step - loss: 0.3505 - iou_score: 0.6266 - dice_metric: 0.9106 - val_loss: 0.6180 - val_iou_score: 0.5292 - val_dice_metric: 0.8423\n",
      "Epoch 14/20\n",
      "50/50 [==============================] - 481s 10s/step - loss: 0.3366 - iou_score: 0.6331 - dice_metric: 0.9141 - val_loss: 0.5463 - val_iou_score: 0.5524 - val_dice_metric: 0.8579\n",
      "Epoch 15/20\n",
      "50/50 [==============================] - 481s 10s/step - loss: 0.3362 - iou_score: 0.6333 - dice_metric: 0.9143 - val_loss: 0.6541 - val_iou_score: 0.5110 - val_dice_metric: 0.8307\n",
      "Epoch 16/20\n",
      "50/50 [==============================] - 480s 10s/step - loss: 0.3406 - iou_score: 0.6313 - dice_metric: 0.9132 - val_loss: 0.6441 - val_iou_score: 0.5190 - val_dice_metric: 0.8380\n",
      "Epoch 17/20\n",
      "50/50 [==============================] - 479s 10s/step - loss: 0.3238 - iou_score: 0.6376 - dice_metric: 0.9172 - val_loss: 0.5556 - val_iou_score: 0.5430 - val_dice_metric: 0.8530\n",
      "Epoch 18/20\n",
      "50/50 [==============================] - 481s 10s/step - loss: 0.3262 - iou_score: 0.6384 - dice_metric: 0.9168 - val_loss: 0.7143 - val_iou_score: 0.5079 - val_dice_metric: 0.8199\n",
      "Epoch 19/20\n",
      "50/50 [==============================] - 485s 10s/step - loss: 0.3252 - iou_score: 0.6388 - dice_metric: 0.9170 - val_loss: 1.0545 - val_iou_score: 0.4390 - val_dice_metric: 0.7340\n",
      "Epoch 20/20\n",
      "50/50 [==============================] - 479s 10s/step - loss: 0.3258 - iou_score: 0.6389 - dice_metric: 0.9169 - val_loss: 0.6382 - val_iou_score: 0.5247 - val_dice_metric: 0.8397\n"
     ]
    },
    {
     "data": {
      "text/plain": [
       "9643.61394071579"
      ]
     },
     "execution_count": 70,
     "metadata": {},
     "output_type": "execute_result"
    }
   ],
   "source": [
    "# fit model\n",
    "start = time.time()\n",
    "history = model.fit(\n",
    "    x=x_train,\n",
    "    y=y_train,\n",
    "    batch_size=16,\n",
    "    epochs=nb_epochs,\n",
    "    validation_data=(x_val, y_val)\n",
    "    )\n",
    "end = time.time()\n",
    "training_time = end - start\n",
    "training_time"
   ]
  },
  {
   "cell_type": "code",
   "execution_count": 71,
   "metadata": {
    "colab": {
     "base_uri": "https://localhost:8080/",
     "height": 312
    },
    "executionInfo": {
     "elapsed": 10,
     "status": "ok",
     "timestamp": 1654270052162,
     "user": {
      "displayName": "Eloi",
      "userId": "03153732686645930687"
     },
     "user_tz": -120
    },
    "id": "Z6d1XdC7Kwy4",
    "outputId": "b3cba04f-9ceb-4a89-95fe-4a57a731e92c"
   },
   "outputs": [
    {
     "name": "stdout",
     "output_type": "stream",
     "text": [
      "0.9168847799301147\n"
     ]
    },
    {
     "data": {
      "image/png": "[encoded data removed]",
      "text/plain": [
       "<Figure size 432x288 with 1 Axes>"
      ]
     },
     "metadata": {
      "needs_background": "light"
     },
     "output_type": "display_data"
    },
    {
     "data": {
      "text/plain": [
       "0.9168847799301147"
      ]
     },
     "execution_count": 71,
     "metadata": {},
     "output_type": "execute_result"
    }
   ],
   "source": [
    "afficher_resultats(history,'total_loss')# total_loss loss"
   ]
  },
  {
   "attachments": {
    "image-2.png": {
     "image/png": "[encoded data removed]"
    }
   },
   "cell_type": "markdown",
   "metadata": {},
   "source": [
    "![image-2.png](attachment:image-2.png)\n",
    "Epoch 40/40\n",
    "50/50 [==============================] - 616s 12s/step - loss: 0.3228 - iou_score: 0.8397 - dice_metric: 0.9493 - val_loss: 0.8899 - val_iou_score: 0.6333 - val_dice_metric: 0.8675"
   ]
  },
  {
   "cell_type": "code",
   "execution_count": 72,
   "metadata": {},
   "outputs": [
    {
     "name": "stdout",
     "output_type": "stream",
     "text": [
      "Evaluate on test data\n",
      "1/1 [==============================] - 12s 12s/step - loss: 4.6598 - iou_score: 0.0079 - dice_metric: 0.0649\n",
      "test loss, test acc: [4.659754753112793, 0.007887233048677444, 0.06491350382566452]\n"
     ]
    },
    {
     "data": {
      "image/png": "[encoded data removed]",
      "text/plain": [
       "<Figure size 432x288 with 1 Axes>"
      ]
     },
     "metadata": {
      "needs_background": "light"
     },
     "output_type": "display_data"
    }
   ],
   "source": [
    "predd = model.predict(X_dataTEST[:1])\n",
    "display_imarge(predd[0])\n",
    "print(\"Evaluate on test data\")\n",
    "results = model.evaluate(X_dataTEST, mask_8classTEST, batch_size=128)\n",
    "print(\"test loss, test acc:\", results)"
   ]
  },
  {
   "cell_type": "code",
   "execution_count": 73,
   "metadata": {},
   "outputs": [],
   "source": [
    "liste_resultats['Unet_total_loss'] = {\"metric\":results[-1],\"time\":training_time}"
   ]
  },
  {
   "cell_type": "code",
   "execution_count": 74,
   "metadata": {
    "colab": {
     "base_uri": "https://localhost:8080/"
    },
    "executionInfo": {
     "elapsed": 17586,
     "status": "ok",
     "timestamp": 1654270052159,
     "user": {
      "displayName": "Eloi",
      "userId": "03153732686645930687"
     },
     "user_tz": -120
    },
    "id": "UGEqFykVKwy3",
    "outputId": "b4d0f32a-266a-4174-fbac-fec217c96a94"
   },
   "outputs": [],
   "source": [
    "#model.save(My_path+'models_full_DATA/'+'Unet_total_loss')"
   ]
  },
  {
   "cell_type": "markdown",
   "metadata": {
    "id": "iuiS8q8qC7o3"
   },
   "source": [
    "## model retenu/fonction loss retenu/ choix data augmentation"
   ]
  },
  {
   "cell_type": "markdown",
   "metadata": {
    "id": "EhlM8hK9L2YP"
   },
   "source": [
    "### data augmentation "
   ]
  },
  {
   "cell_type": "code",
   "execution_count": null,
   "metadata": {},
   "outputs": [],
   "source": [
    "#https://www.tensorflow.org/versions/r2.1/api_docs/python/tf/keras/Model#fit"
   ]
  },
  {
   "cell_type": "code",
   "execution_count": 75,
   "metadata": {},
   "outputs": [],
   "source": [
    "from imgaug.augmentables.segmaps import SegmentationMapsOnImage"
   ]
  },
  {
   "cell_type": "code",
   "execution_count": 263,
   "metadata": {},
   "outputs": [],
   "source": [
    "train_gen = seg_gen(x_train, y_train, batch_size)\n",
    "valid_gen = seg_gen_validation(x_val, y_val, batch_size)"
   ]
  },
  {
   "cell_type": "code",
   "execution_count": 264,
   "metadata": {
    "executionInfo": {
     "elapsed": 25149,
     "status": "ok",
     "timestamp": 1654270834251,
     "user": {
      "displayName": "Eloi",
      "userId": "03153732686645930687"
     },
     "user_tz": -120
    },
    "id": "Zs_OdMaFN3f_"
   },
   "outputs": [],
   "source": [
    "# define model\n",
    "model = Unet(BACKBONE, encoder_weights='imagenet', classes=8)\n",
    "model.compile('Adam', loss=dice_loss, metrics=[iou_score,dice_metric])"
   ]
  },
  {
   "cell_type": "code",
   "execution_count": 265,
   "metadata": {
    "colab": {
     "base_uri": "https://localhost:8080/"
    },
    "executionInfo": {
     "elapsed": 146721,
     "status": "ok",
     "timestamp": 1654270982177,
     "user": {
      "displayName": "Eloi",
      "userId": "03153732686645930687"
     },
     "user_tz": -120
    },
    "id": "2ztRZ-sEN6ds",
    "outputId": "3aac5b5c-eb75-48a8-94fe-0be00c195683"
   },
   "outputs": [
    {
     "name": "stdout",
     "output_type": "stream",
     "text": [
      "Epoch 1/20\n",
      "50/50 [==============================] - ETA: 0s - loss: 2.3171 - iou_score: 0.1591 - dice_metric: 0.3786 get item !\n",
      "get item !\n",
      "get item !\n",
      "get item !\n",
      "get item !\n",
      "get item !\n",
      "get item !\n",
      "get item !\n",
      "50/50 [==============================] - 642s 13s/step - loss: 2.3171 - iou_score: 0.1591 - dice_metric: 0.3786 - val_loss: 5.8127 - val_iou_score: 0.1148 - val_dice_metric: 0.4577\n",
      "Epoch 2/20\n",
      "50/50 [==============================] - ETA: 0s - loss: 1.3674 - iou_score: 0.2277 - dice_metric: 0.6268 get item !\n",
      "get item !\n",
      "get item !\n",
      "get item !\n",
      "get item !\n",
      "get item !\n",
      "get item !\n",
      "50/50 [==============================] - 749s 15s/step - loss: 1.3674 - iou_score: 0.2277 - dice_metric: 0.6268 - val_loss: 2.2440 - val_iou_score: 0.1752 - val_dice_metric: 0.5281\n",
      "Epoch 3/20\n",
      "50/50 [==============================] - ETA: 0s - loss: 1.2129 - iou_score: 0.2554 - dice_metric: 0.6793 get item !\n",
      "get item !\n",
      "get item !\n",
      "get item !\n",
      "get item !\n",
      "get item !\n",
      "get item !\n",
      "50/50 [==============================] - 774s 15s/step - loss: 1.2129 - iou_score: 0.2554 - dice_metric: 0.6793 - val_loss: 2.5972 - val_iou_score: 0.1142 - val_dice_metric: 0.3040\n",
      "Epoch 4/20\n",
      "50/50 [==============================] - ETA: 0s - loss: 1.1880 - iou_score: 0.2673 - dice_metric: 0.6878 get item !\n",
      "get item !\n",
      "get item !\n",
      "get item !\n",
      "get item !\n",
      "get item !\n",
      "get item !\n",
      "50/50 [==============================] - 704s 14s/step - loss: 1.1880 - iou_score: 0.2673 - dice_metric: 0.6878 - val_loss: 10.3642 - val_iou_score: 0.0939 - val_dice_metric: 0.2809\n",
      "Epoch 5/20\n",
      "50/50 [==============================] - ETA: 0s - loss: 1.1388 - iou_score: 0.2774 - dice_metric: 0.7020 get item !\n",
      "get item !\n",
      "get item !\n",
      "get item !\n",
      "get item !\n",
      "get item !\n",
      "get item !\n",
      "50/50 [==============================] - 703s 14s/step - loss: 1.1388 - iou_score: 0.2774 - dice_metric: 0.7020 - val_loss: 14.1365 - val_iou_score: 0.0488 - val_dice_metric: 0.1756\n",
      "Epoch 6/20\n",
      "50/50 [==============================] - ETA: 0s - loss: 1.0738 - iou_score: 0.2963 - dice_metric: 0.7197 get item !\n",
      "get item !\n",
      "get item !\n",
      "get item !\n",
      "get item !\n",
      "get item !\n",
      "get item !\n",
      "50/50 [==============================] - 652s 13s/step - loss: 1.0738 - iou_score: 0.2963 - dice_metric: 0.7197 - val_loss: 4.0677 - val_iou_score: 0.0699 - val_dice_metric: 0.2398\n",
      "Epoch 7/20\n",
      "50/50 [==============================] - ETA: 0s - loss: 1.0517 - iou_score: 0.3021 - dice_metric: 0.7259 get item !\n",
      "get item !\n",
      "get item !\n",
      "get item !\n",
      "get item !\n",
      "get item !\n",
      "get item !\n",
      "50/50 [==============================] - 648s 13s/step - loss: 1.0517 - iou_score: 0.3021 - dice_metric: 0.7259 - val_loss: 1.7054 - val_iou_score: 0.2130 - val_dice_metric: 0.5936\n",
      "Epoch 8/20\n",
      "50/50 [==============================] - ETA: 0s - loss: 1.0695 - iou_score: 0.2967 - dice_metric: 0.7220 get item !\n",
      "get item !\n",
      "get item !\n",
      "get item !\n",
      "get item !\n",
      "get item !\n",
      "get item !\n",
      "50/50 [==============================] - 634s 13s/step - loss: 1.0695 - iou_score: 0.2967 - dice_metric: 0.7220 - val_loss: 2.1347 - val_iou_score: 0.1723 - val_dice_metric: 0.5049\n",
      "Epoch 9/20\n",
      "50/50 [==============================] - ETA: 0s - loss: 1.0778 - iou_score: 0.2994 - dice_metric: 0.7192 get item !\n",
      "get item !\n",
      "get item !\n",
      "get item !\n",
      "get item !\n",
      "get item !\n",
      "get item !\n",
      "50/50 [==============================] - 637s 13s/step - loss: 1.0778 - iou_score: 0.2994 - dice_metric: 0.7192 - val_loss: 1.5154 - val_iou_score: 0.2304 - val_dice_metric: 0.6277\n",
      "Epoch 10/20\n",
      "50/50 [==============================] - ETA: 0s - loss: 1.0371 - iou_score: 0.3065 - dice_metric: 0.7293 get item !\n",
      "get item !\n",
      "get item !\n",
      "get item !\n",
      "get item !\n",
      "get item !\n",
      "get item !\n",
      "50/50 [==============================] - 640s 13s/step - loss: 1.0371 - iou_score: 0.3065 - dice_metric: 0.7293 - val_loss: 3.8823 - val_iou_score: 0.0971 - val_dice_metric: 0.3051\n",
      "Epoch 11/20\n",
      "50/50 [==============================] - ETA: 0s - loss: 0.9996 - iou_score: 0.3138 - dice_metric: 0.7397 get item !\n",
      "get item !\n",
      "get item !\n",
      "get item !\n",
      "get item !\n",
      "get item !\n",
      "get item !\n",
      "50/50 [==============================] - 639s 13s/step - loss: 0.9996 - iou_score: 0.3138 - dice_metric: 0.7397 - val_loss: 1.4889 - val_iou_score: 0.2372 - val_dice_metric: 0.6194\n",
      "Epoch 12/20\n",
      "50/50 [==============================] - ETA: 0s - loss: 0.9909 - iou_score: 0.3194 - dice_metric: 0.7422 get item !\n",
      "get item !\n",
      "get item !\n",
      "get item !\n",
      "get item !\n",
      "get item !\n",
      "get item !\n",
      "50/50 [==============================] - 630s 13s/step - loss: 0.9909 - iou_score: 0.3194 - dice_metric: 0.7422 - val_loss: 1.5591 - val_iou_score: 0.2313 - val_dice_metric: 0.6104\n",
      "Epoch 13/20\n",
      "50/50 [==============================] - ETA: 0s - loss: 0.9859 - iou_score: 0.3198 - dice_metric: 0.7441 get item !\n",
      "get item !\n",
      "get item !\n",
      "get item !\n",
      "get item !\n",
      "get item !\n",
      "get item !\n",
      "50/50 [==============================] - 630s 13s/step - loss: 0.9859 - iou_score: 0.3198 - dice_metric: 0.7441 - val_loss: 1.4404 - val_iou_score: 0.2490 - val_dice_metric: 0.6368\n",
      "Epoch 14/20\n",
      "50/50 [==============================] - ETA: 0s - loss: 0.9449 - iou_score: 0.3323 - dice_metric: 0.7541 get item !\n",
      "get item !\n",
      "get item !\n",
      "get item !\n",
      "get item !\n",
      "get item !\n",
      "get item !\n",
      "50/50 [==============================] - 629s 13s/step - loss: 0.9449 - iou_score: 0.3323 - dice_metric: 0.7541 - val_loss: 1.5876 - val_iou_score: 0.2349 - val_dice_metric: 0.6199\n",
      "Epoch 15/20\n",
      "50/50 [==============================] - ETA: 0s - loss: 0.9092 - iou_score: 0.3506 - dice_metric: 0.7642 get item !\n",
      "get item !\n",
      "get item !\n",
      "get item !\n",
      "get item !\n",
      "get item !\n",
      "get item !\n",
      "50/50 [==============================] - 629s 13s/step - loss: 0.9092 - iou_score: 0.3506 - dice_metric: 0.7642 - val_loss: 1.7843 - val_iou_score: 0.2357 - val_dice_metric: 0.5625\n",
      "Epoch 16/20\n",
      "50/50 [==============================] - ETA: 0s - loss: 0.9145 - iou_score: 0.3491 - dice_metric: 0.7635 get item !\n",
      "get item !\n",
      "get item !\n",
      "get item !\n",
      "get item !\n",
      "get item !\n",
      "get item !\n",
      "50/50 [==============================] - 627s 13s/step - loss: 0.9145 - iou_score: 0.3491 - dice_metric: 0.7635 - val_loss: 1.7582 - val_iou_score: 0.2210 - val_dice_metric: 0.5955\n",
      "Epoch 17/20\n",
      "50/50 [==============================] - ETA: 0s - loss: 0.9161 - iou_score: 0.3546 - dice_metric: 0.7639 get item !\n",
      "get item !\n",
      "get item !\n",
      "get item !\n",
      "get item !\n",
      "get item !\n",
      "get item !\n",
      "50/50 [==============================] - 629s 13s/step - loss: 0.9161 - iou_score: 0.3546 - dice_metric: 0.7639 - val_loss: 1.5554 - val_iou_score: 0.2555 - val_dice_metric: 0.6352\n",
      "Epoch 18/20\n",
      "50/50 [==============================] - ETA: 0s - loss: 0.8444 - iou_score: 0.3723 - dice_metric: 0.7814 get item !\n",
      "get item !\n",
      "get item !\n",
      "get item !\n",
      "get item !\n",
      "get item !\n",
      "get item !\n",
      "50/50 [==============================] - 629s 13s/step - loss: 0.8444 - iou_score: 0.3723 - dice_metric: 0.7814 - val_loss: 1.6806 - val_iou_score: 0.2423 - val_dice_metric: 0.6297\n",
      "Epoch 19/20\n",
      "50/50 [==============================] - ETA: 0s - loss: 0.8484 - iou_score: 0.3764 - dice_metric: 0.7806 get item !\n",
      "get item !\n",
      "get item !\n",
      "get item !\n",
      "get item !\n",
      "get item !\n",
      "get item !\n",
      "50/50 [==============================] - 631s 13s/step - loss: 0.8484 - iou_score: 0.3764 - dice_metric: 0.7806 - val_loss: 1.8695 - val_iou_score: 0.2308 - val_dice_metric: 0.5764\n",
      "Epoch 20/20\n",
      "50/50 [==============================] - ETA: 0s - loss: 0.7928 - iou_score: 0.3927 - dice_metric: 0.7952 get item !\n",
      "get item !\n",
      "get item !\n",
      "get item !\n",
      "get item !\n",
      "get item !\n",
      "get item !\n",
      "50/50 [==============================] - 631s 13s/step - loss: 0.7928 - iou_score: 0.3927 - dice_metric: 0.7952 - val_loss: 1.7416 - val_iou_score: 0.2207 - val_dice_metric: 0.5882\n"
     ]
    },
    {
     "data": {
      "text/plain": [
       "13094.814435720444"
      ]
     },
     "execution_count": 265,
     "metadata": {},
     "output_type": "execute_result"
    }
   ],
   "source": [
    "# fit model\n",
    "start = time.time()\n",
    "history = model.fit(\n",
    "    x=train_gen,\n",
    "    epochs=nb_epochs,\n",
    "    validation_data=valid_gen\n",
    "    )\n",
    "end = time.time()\n",
    "training_time = end - start\n",
    "training_time"
   ]
  },
  {
   "cell_type": "code",
   "execution_count": 266,
   "metadata": {
    "colab": {
     "base_uri": "https://localhost:8080/",
     "height": 312
    },
    "executionInfo": {
     "elapsed": 14,
     "status": "ok",
     "timestamp": 1654270982179,
     "user": {
      "displayName": "Eloi",
      "userId": "03153732686645930687"
     },
     "user_tz": -120
    },
    "id": "AxMS16jxN6go",
    "outputId": "cfaece28-8ee7-42a4-e91c-b47e8ce07e83"
   },
   "outputs": [
    {
     "name": "stdout",
     "output_type": "stream",
     "text": [
      "0.7952085733413696\n"
     ]
    },
    {
     "data": {
      "image/png": "[encoded data removed]",
      "text/plain": [
       "<Figure size 432x288 with 1 Axes>"
      ]
     },
     "metadata": {
      "needs_background": "light"
     },
     "output_type": "display_data"
    },
    {
     "data": {
      "text/plain": [
       "0.7952085733413696"
      ]
     },
     "execution_count": 266,
     "metadata": {},
     "output_type": "execute_result"
    }
   ],
   "source": [
    "afficher_resultats(history,'total_loss+AUG1')"
   ]
  },
  {
   "cell_type": "code",
   "execution_count": 267,
   "metadata": {
    "scrolled": true
   },
   "outputs": [
    {
     "name": "stdout",
     "output_type": "stream",
     "text": [
      "Evaluate on test data\n",
      "1/1 [==============================] - 23s 23s/step - loss: 3.5055 - iou_score: 0.0231 - dice_metric: 0.1871\n",
      "test loss, test acc: [3.5054802894592285, 0.023105967789888382, 0.18706637620925903]\n"
     ]
    },
    {
     "data": {
      "image/png": "[encoded data removed]",
      "text/plain": [
       "<Figure size 432x288 with 1 Axes>"
      ]
     },
     "metadata": {
      "needs_background": "light"
     },
     "output_type": "display_data"
    }
   ],
   "source": [
    "predd = model.predict(X_dataTEST[:1])\n",
    "display_imarge(predd[0])\n",
    "print(\"Evaluate on test data\")\n",
    "results = model.evaluate(X_dataTEST, mask_8classTEST, batch_size=128)\n",
    "print(\"test loss, test acc:\", results)"
   ]
  },
  {
   "cell_type": "code",
   "execution_count": 268,
   "metadata": {},
   "outputs": [],
   "source": [
    "liste_resultats['Unet_dataAUG'] = {\"metric\":results[-1],\"time\":training_time}"
   ]
  },
  {
   "cell_type": "code",
   "execution_count": 81,
   "metadata": {},
   "outputs": [],
   "source": [
    "#model.save(My_path+'models_full_DATA/'+'Unet_dataAUG')"
   ]
  },
  {
   "cell_type": "markdown",
   "metadata": {},
   "source": [
    "# comparaison approches"
   ]
  },
  {
   "cell_type": "markdown",
   "metadata": {},
   "source": [
    "## dice_metric\n",
    "on cherche le model qui se rapproche le plus de 1 (qui est l'égalité parfaite entre 2 images)"
   ]
  },
  {
   "cell_type": "code",
   "execution_count": 306,
   "metadata": {},
   "outputs": [
    {
     "data": {
      "text/plain": [
       "{'LinkNet_jaccard': {'metric': 0.057768724858760834,\n",
       "  'time': 6288.150264501572},\n",
       " 'FPN_jaccard': {'metric': 0.08055661618709564, 'time': 22460.50908112526},\n",
       " 'Unet_jaccard': {'metric': 0.05752857029438019, 'time': 8857.301687955856},\n",
       " 'Unet_vgg16': {'metric': 0.011815889738500118, 'time': 16445.96554660797},\n",
       " 'Unet_dice_loss': {'metric': 0.06682633608579636, 'time': 9602.320577144623},\n",
       " 'Unet_total_loss': {'metric': 0.06491350382566452, 'time': 9643.61394071579},\n",
       " 'Unet_dataAUG': {'metric': 0.18706637620925903, 'time': 13094.814435720444},\n",
       " 'PSPNet_jaccard': {'metric': 1.1799651247201837e-06,\n",
       "  'time': 4064.658495903015}}"
      ]
     },
     "execution_count": 306,
     "metadata": {},
     "output_type": "execute_result"
    }
   ],
   "source": [
    "liste_resultats"
   ]
  },
  {
   "cell_type": "code",
   "execution_count": 307,
   "metadata": {},
   "outputs": [],
   "source": [
    "metrics = [ele[\"metric\"] for ele in liste_resultats.values()]\n",
    "times = [ele[\"time\"] for ele in liste_resultats.values()]\n",
    "timesH = [ele/3600 for ele in times]\n",
    "model_names = [ele for ele in liste_resultats.keys()]"
   ]
  },
  {
   "cell_type": "code",
   "execution_count": 308,
   "metadata": {},
   "outputs": [
    {
     "data": {
      "text/plain": [
       "([0, 1, 2, 3, 4, 5, 6, 7],\n",
       " [Text(0, 0, ''),\n",
       "  Text(0, 0, ''),\n",
       "  Text(0, 0, ''),\n",
       "  Text(0, 0, ''),\n",
       "  Text(0, 0, ''),\n",
       "  Text(0, 0, ''),\n",
       "  Text(0, 0, ''),\n",
       "  Text(0, 0, '')])"
      ]
     },
     "execution_count": 308,
     "metadata": {},
     "output_type": "execute_result"
    },
    {
     "data": {
      "image/png": "[encoded data removed]",
      "text/plain": [
       "<Figure size 432x288 with 1 Axes>"
      ]
     },
     "metadata": {
      "needs_background": "light"
     },
     "output_type": "display_data"
    }
   ],
   "source": [
    "# afficher res\n",
    "import pandas as pd\n",
    "import matplotlib.pyplot as plt\n",
    "\n",
    "df_res = pd.DataFrame(liste_resultats).T\n",
    "\n",
    "plt.plot(df_res.index, df_res[\"metric\"], 'ro')\n",
    "plt.plot(df_res.index, df_res[\"time\"]/360000, 'go')\n",
    "\n",
    "plt.legend(['dice metric','time(h/100)'])\n",
    "plt.xticks(rotation=45)"
   ]
  },
  {
   "cell_type": "code",
   "execution_count": 309,
   "metadata": {},
   "outputs": [
    {
     "data": {
      "text/plain": [
       "Text(0.5, 1.0, 'Dice metric')"
      ]
     },
     "execution_count": 309,
     "metadata": {},
     "output_type": "execute_result"
    },
    {
     "data": {
      "image/png": "[encoded data removed]",
      "text/plain": [
       "<Figure size 432x288 with 1 Axes>"
      ]
     },
     "metadata": {
      "needs_background": "light"
     },
     "output_type": "display_data"
    }
   ],
   "source": [
    "plt.bar(range(len(metrics)), metrics)\n",
    "plt.xticks(range(len(metrics)), model_names,  rotation = 45)\n",
    "plt.title(\"Dice metric\")"
   ]
  },
  {
   "cell_type": "code",
   "execution_count": 310,
   "metadata": {},
   "outputs": [
    {
     "data": {
      "text/plain": [
       "Text(0.5, 1.0, \"Temps d'entrainement (h)\")"
      ]
     },
     "execution_count": 310,
     "metadata": {},
     "output_type": "execute_result"
    },
    {
     "data": {
      "image/png": "[encoded data removed]",
      "text/plain": [
       "<Figure size 432x288 with 1 Axes>"
      ]
     },
     "metadata": {
      "needs_background": "light"
     },
     "output_type": "display_data"
    }
   ],
   "source": [
    "plt.bar(range(len(times)), timesH)\n",
    "plt.xticks(range(len(times)), model_names,  rotation = 45)\n",
    "plt.title(\"Temps d'entrainement (h)\")"
   ]
  },
  {
   "cell_type": "code",
   "execution_count": null,
   "metadata": {},
   "outputs": [],
   "source": []
  }
 ],
 "metadata": {
  "colab": {
   "authorship_tag": "ABX9TyN0k7zSmK4MT4YMzzna/r7i",
   "collapsed_sections": [],
   "name": "from_scratch.ipynb",
   "provenance": [],
   "toc_visible": true
  },
  "kernelspec": {
   "display_name": "Python 3 (ipykernel)",
   "language": "python",
   "name": "python3"
  },
  "language_info": {
   "codemirror_mode": {
    "name": "ipython",
    "version": 3
   },
   "file_extension": ".py",
   "mimetype": "text/x-python",
   "name": "python",
   "nbconvert_exporter": "python",
   "pygments_lexer": "ipython3",
   "version": "3.9.7"
  }
 },
 "nbformat": 4,
 "nbformat_minor": 1
}
